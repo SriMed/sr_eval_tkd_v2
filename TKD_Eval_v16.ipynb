{
  "nbformat": 4,
  "nbformat_minor": 0,
  "metadata": {
    "accelerator": "GPU",
    "colab": {
      "name": "TKD_Eval v16.ipynb",
      "provenance": [],
      "collapsed_sections": [
        "_Ay3--Y4uMgG",
        "wzmz5ZxAMLjZ",
        "H64yY_BJMX2h",
        "iSnMmPE_kiK3"
      ],
      "toc_visible": true
    },
    "kernelspec": {
      "display_name": "Python 3",
      "name": "python3"
    }
  },
  "cells": [
    {
      "cell_type": "markdown",
      "metadata": {
        "id": "X38L6tanrnrB"
      },
      "source": [
        "# Evaluating Taekwondo Moves\n",
        "System to recognize and evaluate video of performed taekwondo moves"
      ]
    },
    {
      "cell_type": "markdown",
      "metadata": {
        "id": "voAnieeAs1sm"
      },
      "source": [
        "##Setup"
      ]
    },
    {
      "cell_type": "code",
      "metadata": {
        "id": "MFffW6If8QSV"
      },
      "source": [
        "import sys\n",
        "import os\n",
        "from os.path import exists, join, basename, splitext\n",
        "import time\n",
        "import math\n",
        "import pickle\n",
        "import numpy as np\n",
        "import cv2\n",
        "import json\n",
        "import random\n",
        "from google.colab.patches import cv2_imshow\n",
        "from datetime import datetime"
      ],
      "execution_count": null,
      "outputs": []
    },
    {
      "cell_type": "code",
      "metadata": {
        "colab": {
          "base_uri": "https://localhost:8080/"
        },
        "id": "hKb97qtlJCld",
        "outputId": "c1b7534c-33bf-449d-eedc-91b420a35108"
      },
      "source": [
        "!pip install -U scikit-learn"
      ],
      "execution_count": null,
      "outputs": [
        {
          "output_type": "stream",
          "text": [
            "Collecting scikit-learn\n",
            "\u001b[?25l  Downloading https://files.pythonhosted.org/packages/f3/74/eb899f41d55f957e2591cde5528e75871f817d9fb46d4732423ecaca736d/scikit_learn-0.24.1-cp37-cp37m-manylinux2010_x86_64.whl (22.3MB)\n",
            "\u001b[K     |████████████████████████████████| 22.3MB 5.8MB/s \n",
            "\u001b[?25hRequirement already satisfied, skipping upgrade: scipy>=0.19.1 in /usr/local/lib/python3.7/dist-packages (from scikit-learn) (1.4.1)\n",
            "Requirement already satisfied, skipping upgrade: numpy>=1.13.3 in /usr/local/lib/python3.7/dist-packages (from scikit-learn) (1.19.5)\n",
            "Collecting threadpoolctl>=2.0.0\n",
            "  Downloading https://files.pythonhosted.org/packages/f7/12/ec3f2e203afa394a149911729357aa48affc59c20e2c1c8297a60f33f133/threadpoolctl-2.1.0-py3-none-any.whl\n",
            "Requirement already satisfied, skipping upgrade: joblib>=0.11 in /usr/local/lib/python3.7/dist-packages (from scikit-learn) (1.0.1)\n",
            "Installing collected packages: threadpoolctl, scikit-learn\n",
            "  Found existing installation: scikit-learn 0.22.2.post1\n",
            "    Uninstalling scikit-learn-0.22.2.post1:\n",
            "      Successfully uninstalled scikit-learn-0.22.2.post1\n",
            "Successfully installed scikit-learn-0.24.1 threadpoolctl-2.1.0\n"
          ],
          "name": "stdout"
        }
      ]
    },
    {
      "cell_type": "code",
      "metadata": {
        "id": "nZ3Ud9zLgOoQ"
      },
      "source": [
        "def show_local_mp4_video(file_name, width=640, height=480):\n",
        "  import io\n",
        "  import base64\n",
        "  from IPython.display import HTML\n",
        "  video_encoded = base64.b64encode(io.open(file_name, 'rb').read())\n",
        "  return HTML(data='''<video width=\"{0}\" height=\"{1}\" alt=\"test\" controls>\n",
        "                        <source src=\"data:video/mp4;base64,{2}\" type=\"video/mp4\" />\n",
        "                      </video>'''.format(width, height, video_encoded.decode('ascii')))"
      ],
      "execution_count": null,
      "outputs": []
    },
    {
      "cell_type": "code",
      "metadata": {
        "id": "xa7Uzv5eDNoc"
      },
      "source": [
        "def zip_folder(zip_folder_name, direc):\n",
        "  !zip -q -r \"$zip_folder_name\" \"$direc\""
      ],
      "execution_count": null,
      "outputs": []
    },
    {
      "cell_type": "code",
      "metadata": {
        "id": "0s_A1_9H0zCk"
      },
      "source": [
        "def unzip_folder(zip_folder_name, direc='/content'):\n",
        "  !unzip \"$zip_folder_name\" -d \"$direc\"\n",
        "  # !unzip -q -l \"$zip_folder_name\""
      ],
      "execution_count": null,
      "outputs": []
    },
    {
      "cell_type": "code",
      "metadata": {
        "id": "WAqUyekQ8q1c"
      },
      "source": [
        "def remove_folder(folder_name):\n",
        "  !rm -r \"$folder_name\""
      ],
      "execution_count": null,
      "outputs": []
    },
    {
      "cell_type": "code",
      "metadata": {
        "id": "7XyX3J_JOGM-"
      },
      "source": [
        "def get_t():\n",
        "  return f'{datetime.now()}'.replace(' ', '_').replace(':', '-')"
      ],
      "execution_count": null,
      "outputs": []
    },
    {
      "cell_type": "code",
      "metadata": {
        "colab": {
          "base_uri": "https://localhost:8080/"
        },
        "id": "dUi8c4RRuUbh",
        "outputId": "a460247c-6928-47a8-c993-29255babf0de"
      },
      "source": [
        "lu = 'drive/MyDrive/Senior_Research'\n",
        "\n",
        "from google.colab import drive\n",
        "drive.mount('/content/drive')"
      ],
      "execution_count": null,
      "outputs": [
        {
          "output_type": "stream",
          "text": [
            "Mounted at /content/drive\n"
          ],
          "name": "stdout"
        }
      ]
    },
    {
      "cell_type": "code",
      "metadata": {
        "id": "2m1NUtAhEJpT"
      },
      "source": [
        "#abbreviations to make folders \n",
        "abbreviations = {\n",
        "    \"High block\": \"hb\",\n",
        "    \"Middle block (in-to-out)\": \"mbio\",\n",
        "    \"Middle block (out-to-in)\": \"mboi\",\n",
        "    \"Knife hand block\": \"khb\",\n",
        "    \"Low block\": \"lb\",\n",
        "    \"Punch (middle-level)\": \"p\",\n",
        "    \"High punch (face-level)\": \"hp\",\n",
        "    \"Front kick\": \"fk\",\n",
        "    \"Round kick\": \"rk\",\n",
        "    \"Side kick\": \"sk\"\n",
        "}"
      ],
      "execution_count": null,
      "outputs": []
    },
    {
      "cell_type": "markdown",
      "metadata": {
        "id": "uuQOIhMI8hv4"
      },
      "source": [
        "## Skeleton Representation"
      ]
    },
    {
      "cell_type": "markdown",
      "metadata": {
        "id": "wzmz5ZxAMLjZ"
      },
      "source": [
        "Get Existing Custom Datasets as of February 23, 2021"
      ]
    },
    {
      "cell_type": "code",
      "metadata": {
        "id": "2qOMoSQz1AWy"
      },
      "source": [
        "# unzip_folder(f'{lu}/VideoPose3D-2021-02-23.zip')"
      ],
      "execution_count": null,
      "outputs": []
    },
    {
      "cell_type": "markdown",
      "metadata": {
        "id": "H64yY_BJMX2h"
      },
      "source": [
        "###Create Custom Datasets"
      ]
    },
    {
      "cell_type": "code",
      "metadata": {
        "id": "GsJSIwCD9hB3"
      },
      "source": [
        "# git_repo_url = 'https://github.com/facebookresearch/VideoPose3D.git'\n",
        "# project_name = splitext(basename(git_repo_url))[0]\n",
        "# if not exists(project_name):\n",
        "#   # clone and install dependencies\n",
        "#    !git clone -q --depth 1 $git_repo_url"
      ],
      "execution_count": null,
      "outputs": []
    },
    {
      "cell_type": "code",
      "metadata": {
        "id": "TneKBqDy55Jk",
        "colab": {
          "base_uri": "https://localhost:8080/"
        },
        "outputId": "782547cf-0d28-4e46-db17-33e06637f9e1"
      },
      "source": [
        "!python3 -m pip install --upgrade pip"
      ],
      "execution_count": null,
      "outputs": [
        {
          "output_type": "stream",
          "text": [
            "Collecting pip\n",
            "\u001b[?25l  Downloading https://files.pythonhosted.org/packages/ac/cf/0cc542fc93de2f3b9b53cb979c7d1118cffb93204afb46299a9f858e113f/pip-21.1-py3-none-any.whl (1.5MB)\n",
            "\r\u001b[K     |▏                               | 10kB 20.3MB/s eta 0:00:01\r\u001b[K     |▍                               | 20kB 27.9MB/s eta 0:00:01\r\u001b[K     |▋                               | 30kB 27.9MB/s eta 0:00:01\r\u001b[K     |▉                               | 40kB 24.9MB/s eta 0:00:01\r\u001b[K     |█                               | 51kB 22.5MB/s eta 0:00:01\r\u001b[K     |█▎                              | 61kB 16.8MB/s eta 0:00:01\r\u001b[K     |█▌                              | 71kB 14.4MB/s eta 0:00:01\r\u001b[K     |█▊                              | 81kB 14.4MB/s eta 0:00:01\r\u001b[K     |██                              | 92kB 14.6MB/s eta 0:00:01\r\u001b[K     |██▏                             | 102kB 15.1MB/s eta 0:00:01\r\u001b[K     |██▎                             | 112kB 15.1MB/s eta 0:00:01\r\u001b[K     |██▌                             | 122kB 15.1MB/s eta 0:00:01\r\u001b[K     |██▊                             | 133kB 15.1MB/s eta 0:00:01\r\u001b[K     |███                             | 143kB 15.1MB/s eta 0:00:01\r\u001b[K     |███▏                            | 153kB 15.1MB/s eta 0:00:01\r\u001b[K     |███▍                            | 163kB 15.1MB/s eta 0:00:01\r\u001b[K     |███▋                            | 174kB 15.1MB/s eta 0:00:01\r\u001b[K     |███▉                            | 184kB 15.1MB/s eta 0:00:01\r\u001b[K     |████                            | 194kB 15.1MB/s eta 0:00:01\r\u001b[K     |████▎                           | 204kB 15.1MB/s eta 0:00:01\r\u001b[K     |████▌                           | 215kB 15.1MB/s eta 0:00:01\r\u001b[K     |████▋                           | 225kB 15.1MB/s eta 0:00:01\r\u001b[K     |████▉                           | 235kB 15.1MB/s eta 0:00:01\r\u001b[K     |█████                           | 245kB 15.1MB/s eta 0:00:01\r\u001b[K     |█████▎                          | 256kB 15.1MB/s eta 0:00:01\r\u001b[K     |█████▌                          | 266kB 15.1MB/s eta 0:00:01\r\u001b[K     |█████▊                          | 276kB 15.1MB/s eta 0:00:01\r\u001b[K     |██████                          | 286kB 15.1MB/s eta 0:00:01\r\u001b[K     |██████▏                         | 296kB 15.1MB/s eta 0:00:01\r\u001b[K     |██████▍                         | 307kB 15.1MB/s eta 0:00:01\r\u001b[K     |██████▋                         | 317kB 15.1MB/s eta 0:00:01\r\u001b[K     |██████▊                         | 327kB 15.1MB/s eta 0:00:01\r\u001b[K     |███████                         | 337kB 15.1MB/s eta 0:00:01\r\u001b[K     |███████▏                        | 348kB 15.1MB/s eta 0:00:01\r\u001b[K     |███████▍                        | 358kB 15.1MB/s eta 0:00:01\r\u001b[K     |███████▋                        | 368kB 15.1MB/s eta 0:00:01\r\u001b[K     |███████▉                        | 378kB 15.1MB/s eta 0:00:01\r\u001b[K     |████████                        | 389kB 15.1MB/s eta 0:00:01\r\u001b[K     |████████▎                       | 399kB 15.1MB/s eta 0:00:01\r\u001b[K     |████████▌                       | 409kB 15.1MB/s eta 0:00:01\r\u001b[K     |████████▊                       | 419kB 15.1MB/s eta 0:00:01\r\u001b[K     |█████████                       | 430kB 15.1MB/s eta 0:00:01\r\u001b[K     |█████████                       | 440kB 15.1MB/s eta 0:00:01\r\u001b[K     |█████████▎                      | 450kB 15.1MB/s eta 0:00:01\r\u001b[K     |█████████▌                      | 460kB 15.1MB/s eta 0:00:01\r\u001b[K     |█████████▊                      | 471kB 15.1MB/s eta 0:00:01\r\u001b[K     |██████████                      | 481kB 15.1MB/s eta 0:00:01\r\u001b[K     |██████████▏                     | 491kB 15.1MB/s eta 0:00:01\r\u001b[K     |██████████▍                     | 501kB 15.1MB/s eta 0:00:01\r\u001b[K     |██████████▋                     | 512kB 15.1MB/s eta 0:00:01\r\u001b[K     |██████████▉                     | 522kB 15.1MB/s eta 0:00:01\r\u001b[K     |███████████                     | 532kB 15.1MB/s eta 0:00:01\r\u001b[K     |███████████▎                    | 542kB 15.1MB/s eta 0:00:01\r\u001b[K     |███████████▍                    | 552kB 15.1MB/s eta 0:00:01\r\u001b[K     |███████████▋                    | 563kB 15.1MB/s eta 0:00:01\r\u001b[K     |███████████▉                    | 573kB 15.1MB/s eta 0:00:01\r\u001b[K     |████████████                    | 583kB 15.1MB/s eta 0:00:01\r\u001b[K     |████████████▎                   | 593kB 15.1MB/s eta 0:00:01\r\u001b[K     |████████████▌                   | 604kB 15.1MB/s eta 0:00:01\r\u001b[K     |████████████▊                   | 614kB 15.1MB/s eta 0:00:01\r\u001b[K     |█████████████                   | 624kB 15.1MB/s eta 0:00:01\r\u001b[K     |█████████████▏                  | 634kB 15.1MB/s eta 0:00:01\r\u001b[K     |█████████████▍                  | 645kB 15.1MB/s eta 0:00:01\r\u001b[K     |█████████████▌                  | 655kB 15.1MB/s eta 0:00:01\r\u001b[K     |█████████████▊                  | 665kB 15.1MB/s eta 0:00:01\r\u001b[K     |██████████████                  | 675kB 15.1MB/s eta 0:00:01\r\u001b[K     |██████████████▏                 | 686kB 15.1MB/s eta 0:00:01\r\u001b[K     |██████████████▍                 | 696kB 15.1MB/s eta 0:00:01\r\u001b[K     |██████████████▋                 | 706kB 15.1MB/s eta 0:00:01\r\u001b[K     |██████████████▉                 | 716kB 15.1MB/s eta 0:00:01\r\u001b[K     |███████████████                 | 727kB 15.1MB/s eta 0:00:01\r\u001b[K     |███████████████▎                | 737kB 15.1MB/s eta 0:00:01\r\u001b[K     |███████████████▌                | 747kB 15.1MB/s eta 0:00:01\r\u001b[K     |███████████████▊                | 757kB 15.1MB/s eta 0:00:01\r\u001b[K     |███████████████▉                | 768kB 15.1MB/s eta 0:00:01\r\u001b[K     |████████████████                | 778kB 15.1MB/s eta 0:00:01\r\u001b[K     |████████████████▎               | 788kB 15.1MB/s eta 0:00:01\r\u001b[K     |████████████████▌               | 798kB 15.1MB/s eta 0:00:01\r\u001b[K     |████████████████▊               | 808kB 15.1MB/s eta 0:00:01\r\u001b[K     |█████████████████               | 819kB 15.1MB/s eta 0:00:01\r\u001b[K     |█████████████████▏              | 829kB 15.1MB/s eta 0:00:01\r\u001b[K     |█████████████████▍              | 839kB 15.1MB/s eta 0:00:01\r\u001b[K     |█████████████████▋              | 849kB 15.1MB/s eta 0:00:01\r\u001b[K     |█████████████████▉              | 860kB 15.1MB/s eta 0:00:01\r\u001b[K     |██████████████████              | 870kB 15.1MB/s eta 0:00:01\r\u001b[K     |██████████████████▏             | 880kB 15.1MB/s eta 0:00:01\r\u001b[K     |██████████████████▍             | 890kB 15.1MB/s eta 0:00:01\r\u001b[K     |██████████████████▋             | 901kB 15.1MB/s eta 0:00:01\r\u001b[K     |██████████████████▉             | 911kB 15.1MB/s eta 0:00:01\r\u001b[K     |███████████████████             | 921kB 15.1MB/s eta 0:00:01\r\u001b[K     |███████████████████▎            | 931kB 15.1MB/s eta 0:00:01\r\u001b[K     |███████████████████▌            | 942kB 15.1MB/s eta 0:00:01\r\u001b[K     |███████████████████▊            | 952kB 15.1MB/s eta 0:00:01\r\u001b[K     |████████████████████            | 962kB 15.1MB/s eta 0:00:01\r\u001b[K     |████████████████████▏           | 972kB 15.1MB/s eta 0:00:01\r\u001b[K     |████████████████████▎           | 983kB 15.1MB/s eta 0:00:01\r\u001b[K     |████████████████████▌           | 993kB 15.1MB/s eta 0:00:01\r\u001b[K     |████████████████████▊           | 1.0MB 15.1MB/s eta 0:00:01\r\u001b[K     |█████████████████████           | 1.0MB 15.1MB/s eta 0:00:01\r\u001b[K     |█████████████████████▏          | 1.0MB 15.1MB/s eta 0:00:01\r\u001b[K     |█████████████████████▍          | 1.0MB 15.1MB/s eta 0:00:01\r\u001b[K     |█████████████████████▋          | 1.0MB 15.1MB/s eta 0:00:01\r\u001b[K     |█████████████████████▉          | 1.1MB 15.1MB/s eta 0:00:01\r\u001b[K     |██████████████████████          | 1.1MB 15.1MB/s eta 0:00:01\r\u001b[K     |██████████████████████▎         | 1.1MB 15.1MB/s eta 0:00:01\r\u001b[K     |██████████████████████▌         | 1.1MB 15.1MB/s eta 0:00:01\r\u001b[K     |██████████████████████▋         | 1.1MB 15.1MB/s eta 0:00:01\r\u001b[K     |██████████████████████▉         | 1.1MB 15.1MB/s eta 0:00:01\r\u001b[K     |███████████████████████         | 1.1MB 15.1MB/s eta 0:00:01\r\u001b[K     |███████████████████████▎        | 1.1MB 15.1MB/s eta 0:00:01\r\u001b[K     |███████████████████████▌        | 1.1MB 15.1MB/s eta 0:00:01\r\u001b[K     |███████████████████████▊        | 1.1MB 15.1MB/s eta 0:00:01\r\u001b[K     |████████████████████████        | 1.2MB 15.1MB/s eta 0:00:01\r\u001b[K     |████████████████████████▏       | 1.2MB 15.1MB/s eta 0:00:01\r\u001b[K     |████████████████████████▍       | 1.2MB 15.1MB/s eta 0:00:01\r\u001b[K     |████████████████████████▋       | 1.2MB 15.1MB/s eta 0:00:01\r\u001b[K     |████████████████████████▉       | 1.2MB 15.1MB/s eta 0:00:01\r\u001b[K     |█████████████████████████       | 1.2MB 15.1MB/s eta 0:00:01\r\u001b[K     |█████████████████████████▏      | 1.2MB 15.1MB/s eta 0:00:01\r\u001b[K     |█████████████████████████▍      | 1.2MB 15.1MB/s eta 0:00:01\r\u001b[K     |█████████████████████████▋      | 1.2MB 15.1MB/s eta 0:00:01\r\u001b[K     |█████████████████████████▉      | 1.2MB 15.1MB/s eta 0:00:01\r\u001b[K     |██████████████████████████      | 1.3MB 15.1MB/s eta 0:00:01\r\u001b[K     |██████████████████████████▎     | 1.3MB 15.1MB/s eta 0:00:01\r\u001b[K     |██████████████████████████▌     | 1.3MB 15.1MB/s eta 0:00:01\r\u001b[K     |██████████████████████████▊     | 1.3MB 15.1MB/s eta 0:00:01\r\u001b[K     |███████████████████████████     | 1.3MB 15.1MB/s eta 0:00:01\r\u001b[K     |███████████████████████████     | 1.3MB 15.1MB/s eta 0:00:01\r\u001b[K     |███████████████████████████▎    | 1.3MB 15.1MB/s eta 0:00:01\r\u001b[K     |███████████████████████████▌    | 1.3MB 15.1MB/s eta 0:00:01\r\u001b[K     |███████████████████████████▊    | 1.3MB 15.1MB/s eta 0:00:01\r\u001b[K     |████████████████████████████    | 1.4MB 15.1MB/s eta 0:00:01\r\u001b[K     |████████████████████████████▏   | 1.4MB 15.1MB/s eta 0:00:01\r\u001b[K     |████████████████████████████▍   | 1.4MB 15.1MB/s eta 0:00:01\r\u001b[K     |████████████████████████████▋   | 1.4MB 15.1MB/s eta 0:00:01\r\u001b[K     |████████████████████████████▉   | 1.4MB 15.1MB/s eta 0:00:01\r\u001b[K     |█████████████████████████████   | 1.4MB 15.1MB/s eta 0:00:01\r\u001b[K     |█████████████████████████████▎  | 1.4MB 15.1MB/s eta 0:00:01\r\u001b[K     |█████████████████████████████▍  | 1.4MB 15.1MB/s eta 0:00:01\r\u001b[K     |█████████████████████████████▋  | 1.4MB 15.1MB/s eta 0:00:01\r\u001b[K     |█████████████████████████████▉  | 1.4MB 15.1MB/s eta 0:00:01\r\u001b[K     |██████████████████████████████  | 1.5MB 15.1MB/s eta 0:00:01\r\u001b[K     |██████████████████████████████▎ | 1.5MB 15.1MB/s eta 0:00:01\r\u001b[K     |██████████████████████████████▌ | 1.5MB 15.1MB/s eta 0:00:01\r\u001b[K     |██████████████████████████████▊ | 1.5MB 15.1MB/s eta 0:00:01\r\u001b[K     |███████████████████████████████ | 1.5MB 15.1MB/s eta 0:00:01\r\u001b[K     |███████████████████████████████▏| 1.5MB 15.1MB/s eta 0:00:01\r\u001b[K     |███████████████████████████████▍| 1.5MB 15.1MB/s eta 0:00:01\r\u001b[K     |███████████████████████████████▋| 1.5MB 15.1MB/s eta 0:00:01\r\u001b[K     |███████████████████████████████▊| 1.5MB 15.1MB/s eta 0:00:01\r\u001b[K     |████████████████████████████████| 1.5MB 15.1MB/s eta 0:00:01\r\u001b[K     |████████████████████████████████| 1.6MB 15.1MB/s \n",
            "\u001b[?25hInstalling collected packages: pip\n",
            "  Found existing installation: pip 19.3.1\n",
            "    Uninstalling pip-19.3.1:\n",
            "      Successfully uninstalled pip-19.3.1\n",
            "Successfully installed pip-21.1\n"
          ],
          "name": "stdout"
        }
      ]
    },
    {
      "cell_type": "code",
      "metadata": {
        "id": "b-i4hmGYk1dL",
        "colab": {
          "base_uri": "https://localhost:8080/"
        },
        "outputId": "178a93a8-202c-44ae-ef26-a2cadd972822"
      },
      "source": [
        "# install dependencies: \n",
        "!pip install pyyaml==5.1\n",
        "import torch, torchvision\n",
        "print(torch.__version__, torch.cuda.is_available())\n",
        "!gcc --version\n",
        "# opencv is pre-installed on colab"
      ],
      "execution_count": null,
      "outputs": [
        {
          "output_type": "stream",
          "text": [
            "\u001b[33mWARNING: Value for scheme.platlib does not match. Please report this to <https://github.com/pypa/pip/issues/9617>\n",
            "distutils: /usr/local/lib/python3.7/dist-packages\n",
            "sysconfig: /usr/lib/python3.7/site-packages\u001b[0m\n",
            "\u001b[33mWARNING: Value for scheme.purelib does not match. Please report this to <https://github.com/pypa/pip/issues/9617>\n",
            "distutils: /usr/local/lib/python3.7/dist-packages\n",
            "sysconfig: /usr/lib/python3.7/site-packages\u001b[0m\n",
            "\u001b[33mWARNING: Value for scheme.headers does not match. Please report this to <https://github.com/pypa/pip/issues/9617>\n",
            "distutils: /usr/local/include/python3.7/UNKNOWN\n",
            "sysconfig: /usr/include/python3.7m\u001b[0m\n",
            "\u001b[33mWARNING: Value for scheme.scripts does not match. Please report this to <https://github.com/pypa/pip/issues/9617>\n",
            "distutils: /usr/local/bin\n",
            "sysconfig: /usr/bin\u001b[0m\n",
            "\u001b[33mWARNING: Value for scheme.data does not match. Please report this to <https://github.com/pypa/pip/issues/9617>\n",
            "distutils: /usr/local\n",
            "sysconfig: /usr\u001b[0m\n",
            "\u001b[33mWARNING: Additional context:\n",
            "user = False\n",
            "home = None\n",
            "root = None\n",
            "prefix = None\u001b[0m\n",
            "Collecting pyyaml==5.1\n",
            "  Downloading PyYAML-5.1.tar.gz (274 kB)\n",
            "\u001b[K     |████████████████████████████████| 274 kB 20.5 MB/s \n",
            "\u001b[?25hBuilding wheels for collected packages: pyyaml\n",
            "  Building wheel for pyyaml (setup.py) ... \u001b[?25l\u001b[?25hdone\n",
            "  Created wheel for pyyaml: filename=PyYAML-5.1-cp37-cp37m-linux_x86_64.whl size=44074 sha256=a1c36baac9c23b57023177afdea4e9ad2b2d45b4ba02e60e8c3b99c3004517ab\n",
            "  Stored in directory: /root/.cache/pip/wheels/77/f5/10/d00a2bd30928b972790053b5de0c703ca87324f3fead0f2fd9\n",
            "Successfully built pyyaml\n",
            "Installing collected packages: pyyaml\n",
            "  Attempting uninstall: pyyaml\n",
            "    Found existing installation: PyYAML 3.13\n",
            "    Uninstalling PyYAML-3.13:\n",
            "      Successfully uninstalled PyYAML-3.13\n",
            "\u001b[33m  WARNING: Value for scheme.platlib does not match. Please report this to <https://github.com/pypa/pip/issues/9617>\n",
            "  distutils: /usr/local/lib/python3.7/dist-packages\n",
            "  sysconfig: /usr/lib/python3.7/site-packages\u001b[0m\n",
            "\u001b[33m  WARNING: Value for scheme.purelib does not match. Please report this to <https://github.com/pypa/pip/issues/9617>\n",
            "  distutils: /usr/local/lib/python3.7/dist-packages\n",
            "  sysconfig: /usr/lib/python3.7/site-packages\u001b[0m\n",
            "\u001b[33m  WARNING: Value for scheme.headers does not match. Please report this to <https://github.com/pypa/pip/issues/9617>\n",
            "  distutils: /usr/local/include/python3.7/pyyaml\n",
            "  sysconfig: /usr/include/python3.7m/pyyaml\u001b[0m\n",
            "\u001b[33m  WARNING: Value for scheme.scripts does not match. Please report this to <https://github.com/pypa/pip/issues/9617>\n",
            "  distutils: /usr/local/bin\n",
            "  sysconfig: /usr/bin\u001b[0m\n",
            "\u001b[33m  WARNING: Value for scheme.data does not match. Please report this to <https://github.com/pypa/pip/issues/9617>\n",
            "  distutils: /usr/local\n",
            "  sysconfig: /usr\u001b[0m\n",
            "\u001b[33m  WARNING: Additional context:\n",
            "  user = False\n",
            "  home = None\n",
            "  root = None\n",
            "  prefix = None\u001b[0m\n",
            "\u001b[33mWARNING: Value for scheme.platlib does not match. Please report this to <https://github.com/pypa/pip/issues/9617>\n",
            "distutils: /usr/local/lib/python3.7/dist-packages\n",
            "sysconfig: /usr/lib/python3.7/site-packages\u001b[0m\n",
            "\u001b[33mWARNING: Value for scheme.purelib does not match. Please report this to <https://github.com/pypa/pip/issues/9617>\n",
            "distutils: /usr/local/lib/python3.7/dist-packages\n",
            "sysconfig: /usr/lib/python3.7/site-packages\u001b[0m\n",
            "\u001b[33mWARNING: Value for scheme.headers does not match. Please report this to <https://github.com/pypa/pip/issues/9617>\n",
            "distutils: /usr/local/include/python3.7/UNKNOWN\n",
            "sysconfig: /usr/include/python3.7m\u001b[0m\n",
            "\u001b[33mWARNING: Value for scheme.scripts does not match. Please report this to <https://github.com/pypa/pip/issues/9617>\n",
            "distutils: /usr/local/bin\n",
            "sysconfig: /usr/bin\u001b[0m\n",
            "\u001b[33mWARNING: Value for scheme.data does not match. Please report this to <https://github.com/pypa/pip/issues/9617>\n",
            "distutils: /usr/local\n",
            "sysconfig: /usr\u001b[0m\n",
            "\u001b[33mWARNING: Additional context:\n",
            "user = False\n",
            "home = None\n",
            "root = None\n",
            "prefix = None\u001b[0m\n",
            "Successfully installed pyyaml-5.1\n",
            "\u001b[33mWARNING: Running pip as root will break packages and permissions. You should install packages reliably by using venv: https://pip.pypa.io/warnings/venv\u001b[0m\n",
            "1.8.1+cu101 True\n",
            "gcc (Ubuntu 7.5.0-3ubuntu1~18.04) 7.5.0\n",
            "Copyright (C) 2017 Free Software Foundation, Inc.\n",
            "This is free software; see the source for copying conditions.  There is NO\n",
            "warranty; not even for MERCHANTABILITY or FITNESS FOR A PARTICULAR PURPOSE.\n",
            "\n"
          ],
          "name": "stdout"
        }
      ]
    },
    {
      "cell_type": "code",
      "metadata": {
        "colab": {
          "base_uri": "https://localhost:8080/"
        },
        "id": "exqzM_yMVXxT",
        "outputId": "45281746-6715-46be-bd2e-09106e6c62a5"
      },
      "source": [
        "# install detectron2: (Colab has CUDA 10.1 + torch 1.8)\n",
        "# See https://detectron2.readthedocs.io/tutorials/install.html for instructions\n",
        "import torch\n",
        "assert torch.__version__.startswith(\"1.8\")   # need to manually install torch 1.8 if Colab changes its default version\n",
        "!pip install detectron2 -f https://dl.fbaipublicfiles.com/detectron2/wheels/cu101/torch1.8/index.html\n",
        "# exit(0)  # After installation, you need to \"restart runtime\" in Colab. This line can also restart runtime"
      ],
      "execution_count": null,
      "outputs": [
        {
          "output_type": "stream",
          "text": [
            "\u001b[33mWARNING: Value for scheme.platlib does not match. Please report this to <https://github.com/pypa/pip/issues/9617>\n",
            "distutils: /usr/local/lib/python3.7/dist-packages\n",
            "sysconfig: /usr/lib/python3.7/site-packages\u001b[0m\n",
            "\u001b[33mWARNING: Value for scheme.purelib does not match. Please report this to <https://github.com/pypa/pip/issues/9617>\n",
            "distutils: /usr/local/lib/python3.7/dist-packages\n",
            "sysconfig: /usr/lib/python3.7/site-packages\u001b[0m\n",
            "\u001b[33mWARNING: Value for scheme.headers does not match. Please report this to <https://github.com/pypa/pip/issues/9617>\n",
            "distutils: /usr/local/include/python3.7/UNKNOWN\n",
            "sysconfig: /usr/include/python3.7m\u001b[0m\n",
            "\u001b[33mWARNING: Value for scheme.scripts does not match. Please report this to <https://github.com/pypa/pip/issues/9617>\n",
            "distutils: /usr/local/bin\n",
            "sysconfig: /usr/bin\u001b[0m\n",
            "\u001b[33mWARNING: Value for scheme.data does not match. Please report this to <https://github.com/pypa/pip/issues/9617>\n",
            "distutils: /usr/local\n",
            "sysconfig: /usr\u001b[0m\n",
            "\u001b[33mWARNING: Additional context:\n",
            "user = False\n",
            "home = None\n",
            "root = None\n",
            "prefix = None\u001b[0m\n",
            "Looking in links: https://dl.fbaipublicfiles.com/detectron2/wheels/cu101/torch1.8/index.html\n",
            "Collecting detectron2\n",
            "  Downloading https://dl.fbaipublicfiles.com/detectron2/wheels/cu101/torch1.8/detectron2-0.4%2Bcu101-cp37-cp37m-linux_x86_64.whl (6.2 MB)\n",
            "\u001b[K     |████████████████████████████████| 6.2 MB 568 kB/s \n",
            "\u001b[?25hRequirement already satisfied: future in /usr/local/lib/python3.7/dist-packages (from detectron2) (0.16.0)\n",
            "Requirement already satisfied: tqdm>4.29.0 in /usr/local/lib/python3.7/dist-packages (from detectron2) (4.41.1)\n",
            "Requirement already satisfied: tabulate in /usr/local/lib/python3.7/dist-packages (from detectron2) (0.8.9)\n",
            "Requirement already satisfied: cloudpickle in /usr/local/lib/python3.7/dist-packages (from detectron2) (1.3.0)\n",
            "Requirement already satisfied: pycocotools>=2.0.2 in /usr/local/lib/python3.7/dist-packages (from detectron2) (2.0.2)\n",
            "Requirement already satisfied: tensorboard in /usr/local/lib/python3.7/dist-packages (from detectron2) (2.4.1)\n",
            "Requirement already satisfied: termcolor>=1.1 in /usr/local/lib/python3.7/dist-packages (from detectron2) (1.1.0)\n",
            "Requirement already satisfied: pydot in /usr/local/lib/python3.7/dist-packages (from detectron2) (1.3.0)\n",
            "Collecting omegaconf>=2\n",
            "  Downloading omegaconf-2.0.6-py3-none-any.whl (36 kB)\n",
            "Requirement already satisfied: matplotlib in /usr/local/lib/python3.7/dist-packages (from detectron2) (3.2.2)\n",
            "Collecting fvcore<0.1.4,>=0.1.3\n",
            "  Downloading fvcore-0.1.3.post20210317.tar.gz (47 kB)\n",
            "\u001b[K     |████████████████████████████████| 47 kB 4.4 MB/s \n",
            "\u001b[?25hCollecting iopath>=0.1.2\n",
            "  Downloading iopath-0.1.8-py3-none-any.whl (19 kB)\n",
            "Collecting yacs>=0.1.6\n",
            "  Downloading yacs-0.1.8-py3-none-any.whl (14 kB)\n",
            "Requirement already satisfied: Pillow>=7.1 in /usr/local/lib/python3.7/dist-packages (from detectron2) (7.1.2)\n",
            "Requirement already satisfied: numpy in /usr/local/lib/python3.7/dist-packages (from fvcore<0.1.4,>=0.1.3->detectron2) (1.19.5)\n",
            "Requirement already satisfied: pyyaml>=5.1 in /usr/local/lib/python3.7/dist-packages (from fvcore<0.1.4,>=0.1.3->detectron2) (5.1)\n",
            "Collecting portalocker\n",
            "  Downloading portalocker-2.3.0-py2.py3-none-any.whl (15 kB)\n",
            "Requirement already satisfied: typing-extensions in /usr/local/lib/python3.7/dist-packages (from omegaconf>=2->detectron2) (3.7.4.3)\n",
            "Requirement already satisfied: setuptools>=18.0 in /usr/local/lib/python3.7/dist-packages (from pycocotools>=2.0.2->detectron2) (56.0.0)\n",
            "Requirement already satisfied: cython>=0.27.3 in /usr/local/lib/python3.7/dist-packages (from pycocotools>=2.0.2->detectron2) (0.29.22)\n",
            "Requirement already satisfied: cycler>=0.10 in /usr/local/lib/python3.7/dist-packages (from matplotlib->detectron2) (0.10.0)\n",
            "Requirement already satisfied: pyparsing!=2.0.4,!=2.1.2,!=2.1.6,>=2.0.1 in /usr/local/lib/python3.7/dist-packages (from matplotlib->detectron2) (2.4.7)\n",
            "Requirement already satisfied: python-dateutil>=2.1 in /usr/local/lib/python3.7/dist-packages (from matplotlib->detectron2) (2.8.1)\n",
            "Requirement already satisfied: kiwisolver>=1.0.1 in /usr/local/lib/python3.7/dist-packages (from matplotlib->detectron2) (1.3.1)\n",
            "Requirement already satisfied: six in /usr/local/lib/python3.7/dist-packages (from cycler>=0.10->matplotlib->detectron2) (1.15.0)\n",
            "Requirement already satisfied: werkzeug>=0.11.15 in /usr/local/lib/python3.7/dist-packages (from tensorboard->detectron2) (1.0.1)\n",
            "Requirement already satisfied: wheel>=0.26 in /usr/local/lib/python3.7/dist-packages (from tensorboard->detectron2) (0.36.2)\n",
            "Requirement already satisfied: absl-py>=0.4 in /usr/local/lib/python3.7/dist-packages (from tensorboard->detectron2) (0.12.0)\n",
            "Requirement already satisfied: markdown>=2.6.8 in /usr/local/lib/python3.7/dist-packages (from tensorboard->detectron2) (3.3.4)\n",
            "Requirement already satisfied: grpcio>=1.24.3 in /usr/local/lib/python3.7/dist-packages (from tensorboard->detectron2) (1.32.0)\n",
            "Requirement already satisfied: protobuf>=3.6.0 in /usr/local/lib/python3.7/dist-packages (from tensorboard->detectron2) (3.12.4)\n",
            "Requirement already satisfied: tensorboard-plugin-wit>=1.6.0 in /usr/local/lib/python3.7/dist-packages (from tensorboard->detectron2) (1.8.0)\n",
            "Requirement already satisfied: google-auth<2,>=1.6.3 in /usr/local/lib/python3.7/dist-packages (from tensorboard->detectron2) (1.28.1)\n",
            "Requirement already satisfied: requests<3,>=2.21.0 in /usr/local/lib/python3.7/dist-packages (from tensorboard->detectron2) (2.23.0)\n",
            "Requirement already satisfied: google-auth-oauthlib<0.5,>=0.4.1 in /usr/local/lib/python3.7/dist-packages (from tensorboard->detectron2) (0.4.4)\n",
            "Requirement already satisfied: pyasn1-modules>=0.2.1 in /usr/local/lib/python3.7/dist-packages (from google-auth<2,>=1.6.3->tensorboard->detectron2) (0.2.8)\n",
            "Requirement already satisfied: cachetools<5.0,>=2.0.0 in /usr/local/lib/python3.7/dist-packages (from google-auth<2,>=1.6.3->tensorboard->detectron2) (4.2.1)\n",
            "Requirement already satisfied: rsa<5,>=3.1.4 in /usr/local/lib/python3.7/dist-packages (from google-auth<2,>=1.6.3->tensorboard->detectron2) (4.7.2)\n",
            "Requirement already satisfied: requests-oauthlib>=0.7.0 in /usr/local/lib/python3.7/dist-packages (from google-auth-oauthlib<0.5,>=0.4.1->tensorboard->detectron2) (1.3.0)\n",
            "Requirement already satisfied: importlib-metadata in /usr/local/lib/python3.7/dist-packages (from markdown>=2.6.8->tensorboard->detectron2) (3.10.1)\n",
            "Requirement already satisfied: pyasn1<0.5.0,>=0.4.6 in /usr/local/lib/python3.7/dist-packages (from pyasn1-modules>=0.2.1->google-auth<2,>=1.6.3->tensorboard->detectron2) (0.4.8)\n",
            "Requirement already satisfied: chardet<4,>=3.0.2 in /usr/local/lib/python3.7/dist-packages (from requests<3,>=2.21.0->tensorboard->detectron2) (3.0.4)\n",
            "Requirement already satisfied: idna<3,>=2.5 in /usr/local/lib/python3.7/dist-packages (from requests<3,>=2.21.0->tensorboard->detectron2) (2.10)\n",
            "Requirement already satisfied: certifi>=2017.4.17 in /usr/local/lib/python3.7/dist-packages (from requests<3,>=2.21.0->tensorboard->detectron2) (2020.12.5)\n",
            "Requirement already satisfied: urllib3!=1.25.0,!=1.25.1,<1.26,>=1.21.1 in /usr/local/lib/python3.7/dist-packages (from requests<3,>=2.21.0->tensorboard->detectron2) (1.24.3)\n",
            "Requirement already satisfied: oauthlib>=3.0.0 in /usr/local/lib/python3.7/dist-packages (from requests-oauthlib>=0.7.0->google-auth-oauthlib<0.5,>=0.4.1->tensorboard->detectron2) (3.1.0)\n",
            "Requirement already satisfied: zipp>=0.5 in /usr/local/lib/python3.7/dist-packages (from importlib-metadata->markdown>=2.6.8->tensorboard->detectron2) (3.4.1)\n",
            "Building wheels for collected packages: fvcore\n",
            "  Building wheel for fvcore (setup.py) ... \u001b[?25l\u001b[?25hdone\n",
            "  Created wheel for fvcore: filename=fvcore-0.1.3.post20210317-py3-none-any.whl size=58542 sha256=89a55c3fe40d9869b7330dd0af6bfe13ffca92cb77c1fb469963ef25bc1a9c21\n",
            "  Stored in directory: /root/.cache/pip/wheels/a6/02/09/10e3a0150eb92e5ecbee3677a813bffc32a8ec6f876bfe4adf\n",
            "Successfully built fvcore\n",
            "Installing collected packages: portalocker, yacs, iopath, omegaconf, fvcore, detectron2\n",
            "\u001b[33m  WARNING: Value for scheme.platlib does not match. Please report this to <https://github.com/pypa/pip/issues/9617>\n",
            "  distutils: /usr/local/lib/python3.7/dist-packages\n",
            "  sysconfig: /usr/lib/python3.7/site-packages\u001b[0m\n",
            "\u001b[33m  WARNING: Value for scheme.purelib does not match. Please report this to <https://github.com/pypa/pip/issues/9617>\n",
            "  distutils: /usr/local/lib/python3.7/dist-packages\n",
            "  sysconfig: /usr/lib/python3.7/site-packages\u001b[0m\n",
            "\u001b[33m  WARNING: Value for scheme.headers does not match. Please report this to <https://github.com/pypa/pip/issues/9617>\n",
            "  distutils: /usr/local/include/python3.7/portalocker\n",
            "  sysconfig: /usr/include/python3.7m/portalocker\u001b[0m\n",
            "\u001b[33m  WARNING: Value for scheme.scripts does not match. Please report this to <https://github.com/pypa/pip/issues/9617>\n",
            "  distutils: /usr/local/bin\n",
            "  sysconfig: /usr/bin\u001b[0m\n",
            "\u001b[33m  WARNING: Value for scheme.data does not match. Please report this to <https://github.com/pypa/pip/issues/9617>\n",
            "  distutils: /usr/local\n",
            "  sysconfig: /usr\u001b[0m\n",
            "\u001b[33m  WARNING: Additional context:\n",
            "  user = False\n",
            "  home = None\n",
            "  root = None\n",
            "  prefix = None\u001b[0m\n",
            "\u001b[33m  WARNING: Value for scheme.platlib does not match. Please report this to <https://github.com/pypa/pip/issues/9617>\n",
            "  distutils: /usr/local/lib/python3.7/dist-packages\n",
            "  sysconfig: /usr/lib/python3.7/site-packages\u001b[0m\n",
            "\u001b[33m  WARNING: Value for scheme.purelib does not match. Please report this to <https://github.com/pypa/pip/issues/9617>\n",
            "  distutils: /usr/local/lib/python3.7/dist-packages\n",
            "  sysconfig: /usr/lib/python3.7/site-packages\u001b[0m\n",
            "\u001b[33m  WARNING: Value for scheme.headers does not match. Please report this to <https://github.com/pypa/pip/issues/9617>\n",
            "  distutils: /usr/local/include/python3.7/yacs\n",
            "  sysconfig: /usr/include/python3.7m/yacs\u001b[0m\n",
            "\u001b[33m  WARNING: Value for scheme.scripts does not match. Please report this to <https://github.com/pypa/pip/issues/9617>\n",
            "  distutils: /usr/local/bin\n",
            "  sysconfig: /usr/bin\u001b[0m\n",
            "\u001b[33m  WARNING: Value for scheme.data does not match. Please report this to <https://github.com/pypa/pip/issues/9617>\n",
            "  distutils: /usr/local\n",
            "  sysconfig: /usr\u001b[0m\n",
            "\u001b[33m  WARNING: Additional context:\n",
            "  user = False\n",
            "  home = None\n",
            "  root = None\n",
            "  prefix = None\u001b[0m\n",
            "\u001b[33m  WARNING: Value for scheme.platlib does not match. Please report this to <https://github.com/pypa/pip/issues/9617>\n",
            "  distutils: /usr/local/lib/python3.7/dist-packages\n",
            "  sysconfig: /usr/lib/python3.7/site-packages\u001b[0m\n",
            "\u001b[33m  WARNING: Value for scheme.purelib does not match. Please report this to <https://github.com/pypa/pip/issues/9617>\n",
            "  distutils: /usr/local/lib/python3.7/dist-packages\n",
            "  sysconfig: /usr/lib/python3.7/site-packages\u001b[0m\n",
            "\u001b[33m  WARNING: Value for scheme.headers does not match. Please report this to <https://github.com/pypa/pip/issues/9617>\n",
            "  distutils: /usr/local/include/python3.7/iopath\n",
            "  sysconfig: /usr/include/python3.7m/iopath\u001b[0m\n",
            "\u001b[33m  WARNING: Value for scheme.scripts does not match. Please report this to <https://github.com/pypa/pip/issues/9617>\n",
            "  distutils: /usr/local/bin\n",
            "  sysconfig: /usr/bin\u001b[0m\n",
            "\u001b[33m  WARNING: Value for scheme.data does not match. Please report this to <https://github.com/pypa/pip/issues/9617>\n",
            "  distutils: /usr/local\n",
            "  sysconfig: /usr\u001b[0m\n",
            "\u001b[33m  WARNING: Additional context:\n",
            "  user = False\n",
            "  home = None\n",
            "  root = None\n",
            "  prefix = None\u001b[0m\n",
            "\u001b[33m  WARNING: Value for scheme.platlib does not match. Please report this to <https://github.com/pypa/pip/issues/9617>\n",
            "  distutils: /usr/local/lib/python3.7/dist-packages\n",
            "  sysconfig: /usr/lib/python3.7/site-packages\u001b[0m\n",
            "\u001b[33m  WARNING: Value for scheme.purelib does not match. Please report this to <https://github.com/pypa/pip/issues/9617>\n",
            "  distutils: /usr/local/lib/python3.7/dist-packages\n",
            "  sysconfig: /usr/lib/python3.7/site-packages\u001b[0m\n",
            "\u001b[33m  WARNING: Value for scheme.headers does not match. Please report this to <https://github.com/pypa/pip/issues/9617>\n",
            "  distutils: /usr/local/include/python3.7/omegaconf\n",
            "  sysconfig: /usr/include/python3.7m/omegaconf\u001b[0m\n",
            "\u001b[33m  WARNING: Value for scheme.scripts does not match. Please report this to <https://github.com/pypa/pip/issues/9617>\n",
            "  distutils: /usr/local/bin\n",
            "  sysconfig: /usr/bin\u001b[0m\n",
            "\u001b[33m  WARNING: Value for scheme.data does not match. Please report this to <https://github.com/pypa/pip/issues/9617>\n",
            "  distutils: /usr/local\n",
            "  sysconfig: /usr\u001b[0m\n",
            "\u001b[33m  WARNING: Additional context:\n",
            "  user = False\n",
            "  home = None\n",
            "  root = None\n",
            "  prefix = None\u001b[0m\n",
            "\u001b[33m  WARNING: Value for scheme.platlib does not match. Please report this to <https://github.com/pypa/pip/issues/9617>\n",
            "  distutils: /usr/local/lib/python3.7/dist-packages\n",
            "  sysconfig: /usr/lib/python3.7/site-packages\u001b[0m\n",
            "\u001b[33m  WARNING: Value for scheme.purelib does not match. Please report this to <https://github.com/pypa/pip/issues/9617>\n",
            "  distutils: /usr/local/lib/python3.7/dist-packages\n",
            "  sysconfig: /usr/lib/python3.7/site-packages\u001b[0m\n",
            "\u001b[33m  WARNING: Value for scheme.headers does not match. Please report this to <https://github.com/pypa/pip/issues/9617>\n",
            "  distutils: /usr/local/include/python3.7/fvcore\n",
            "  sysconfig: /usr/include/python3.7m/fvcore\u001b[0m\n",
            "\u001b[33m  WARNING: Value for scheme.scripts does not match. Please report this to <https://github.com/pypa/pip/issues/9617>\n",
            "  distutils: /usr/local/bin\n",
            "  sysconfig: /usr/bin\u001b[0m\n",
            "\u001b[33m  WARNING: Value for scheme.data does not match. Please report this to <https://github.com/pypa/pip/issues/9617>\n",
            "  distutils: /usr/local\n",
            "  sysconfig: /usr\u001b[0m\n",
            "\u001b[33m  WARNING: Additional context:\n",
            "  user = False\n",
            "  home = None\n",
            "  root = None\n",
            "  prefix = None\u001b[0m\n",
            "\u001b[33m  WARNING: Value for scheme.platlib does not match. Please report this to <https://github.com/pypa/pip/issues/9617>\n",
            "  distutils: /usr/local/lib/python3.7/dist-packages\n",
            "  sysconfig: /usr/lib/python3.7/site-packages\u001b[0m\n",
            "\u001b[33m  WARNING: Value for scheme.purelib does not match. Please report this to <https://github.com/pypa/pip/issues/9617>\n",
            "  distutils: /usr/local/lib/python3.7/dist-packages\n",
            "  sysconfig: /usr/lib/python3.7/site-packages\u001b[0m\n",
            "\u001b[33m  WARNING: Value for scheme.headers does not match. Please report this to <https://github.com/pypa/pip/issues/9617>\n",
            "  distutils: /usr/local/include/python3.7/detectron2\n",
            "  sysconfig: /usr/include/python3.7m/detectron2\u001b[0m\n",
            "\u001b[33m  WARNING: Value for scheme.scripts does not match. Please report this to <https://github.com/pypa/pip/issues/9617>\n",
            "  distutils: /usr/local/bin\n",
            "  sysconfig: /usr/bin\u001b[0m\n",
            "\u001b[33m  WARNING: Value for scheme.data does not match. Please report this to <https://github.com/pypa/pip/issues/9617>\n",
            "  distutils: /usr/local\n",
            "  sysconfig: /usr\u001b[0m\n",
            "\u001b[33m  WARNING: Additional context:\n",
            "  user = False\n",
            "  home = None\n",
            "  root = None\n",
            "  prefix = None\u001b[0m\n",
            "\u001b[33mWARNING: Value for scheme.platlib does not match. Please report this to <https://github.com/pypa/pip/issues/9617>\n",
            "distutils: /usr/local/lib/python3.7/dist-packages\n",
            "sysconfig: /usr/lib/python3.7/site-packages\u001b[0m\n",
            "\u001b[33mWARNING: Value for scheme.purelib does not match. Please report this to <https://github.com/pypa/pip/issues/9617>\n",
            "distutils: /usr/local/lib/python3.7/dist-packages\n",
            "sysconfig: /usr/lib/python3.7/site-packages\u001b[0m\n",
            "\u001b[33mWARNING: Value for scheme.headers does not match. Please report this to <https://github.com/pypa/pip/issues/9617>\n",
            "distutils: /usr/local/include/python3.7/UNKNOWN\n",
            "sysconfig: /usr/include/python3.7m\u001b[0m\n",
            "\u001b[33mWARNING: Value for scheme.scripts does not match. Please report this to <https://github.com/pypa/pip/issues/9617>\n",
            "distutils: /usr/local/bin\n",
            "sysconfig: /usr/bin\u001b[0m\n",
            "\u001b[33mWARNING: Value for scheme.data does not match. Please report this to <https://github.com/pypa/pip/issues/9617>\n",
            "distutils: /usr/local\n",
            "sysconfig: /usr\u001b[0m\n",
            "\u001b[33mWARNING: Additional context:\n",
            "user = False\n",
            "home = None\n",
            "root = None\n",
            "prefix = None\u001b[0m\n",
            "Successfully installed detectron2-0.4+cu101 fvcore-0.1.3.post20210317 iopath-0.1.8 omegaconf-2.0.6 portalocker-2.3.0 yacs-0.1.8\n",
            "\u001b[33mWARNING: Running pip as root will break packages and permissions. You should install packages reliably by using venv: https://pip.pypa.io/warnings/venv\u001b[0m\n"
          ],
          "name": "stdout"
        }
      ]
    },
    {
      "cell_type": "code",
      "metadata": {
        "id": "ZyAvNCJMmvFF"
      },
      "source": [
        "# Some basic setup:\n",
        "# Setup detectron2 logger\n",
        "import detectron2\n",
        "from detectron2.utils.logger import setup_logger\n",
        "setup_logger()\n",
        "\n",
        "# import some common detectron2 utilities\n",
        "from detectron2 import model_zoo\n",
        "from detectron2.engine import DefaultPredictor\n",
        "from detectron2.config import get_cfg\n",
        "from detectron2.utils.visualizer import Visualizer\n",
        "from detectron2.data import MetadataCatalog, DatasetCatalog"
      ],
      "execution_count": null,
      "outputs": []
    },
    {
      "cell_type": "markdown",
      "metadata": {
        "id": "I6V1MtSBtzad"
      },
      "source": [
        "*Make sure to upload the pretrained model to the checkpoint folder if you took VideoPose3D straight from GitHub"
      ]
    },
    {
      "cell_type": "code",
      "metadata": {
        "id": "qiA-N5BsFYYN"
      },
      "source": [
        "def create_train_custom_dataset(videos, side, move, slow): #will create custom dataset with \"$prefix\"_dataset naming convention\n",
        "  prefix = download_all_videos(videos, side, move, slow)\n",
        "  if prefix != None:\n",
        "    # create an output folder for the 2D estimates\n",
        "    twod_outputs_folder = f'{prefix}_2d_outputs'\n",
        "    if not os.path.exists(twod_outputs_folder):\n",
        "      os.makedirs(twod_outputs_folder)\n",
        "    !cd VideoPose3D/inference && python3 infer_video_d2.py --cfg COCO-Keypoints/keypoint_rcnn_R_101_FPN_3x.yaml --output-dir ../../\"$twod_outputs_folder\"  --image-ext mp4 ../../\"$prefix\"/\n",
        "    !cd VideoPose3D/data/ && python3 prepare_data_2d_custom.py -i ../../\"$twod_outputs_folder\" -o \"$prefix\"_dataset\n",
        "    return prefix, f'{prefix}_dataset'\n",
        "  return None, None"
      ],
      "execution_count": null,
      "outputs": []
    },
    {
      "cell_type": "code",
      "metadata": {
        "id": "MgJ9ihNPnGH9"
      },
      "source": [
        "def create_train_custom_dataset_for_given_moves(moves):\n",
        "  # pdts = {}\n",
        "  for m in moves:\n",
        "    prefix, dts = create_train_custom_dataset(videos, 'Left', m, slow=False)\n",
        "    # pdts[prefix] = dts\n",
        "    prefix, dts = create_train_custom_dataset(videos, 'Right', m, slow=False)\n",
        "    # pdts[prefix] = dts\n",
        "  folder_name = f\"{lu}/VideoPose3D-{get_t()}.zip\"\n",
        "  zip_folder(folder_name, \"VideoPose3D/\")\n",
        "  # pickle.dump(pdts, open( \"pdts.p\", \"wb\" ) "
      ],
      "execution_count": null,
      "outputs": []
    },
    {
      "cell_type": "code",
      "metadata": {
        "id": "TLuMRpbsTKLl"
      },
      "source": [
        "def create_custom_dataset(leadup, ip_folder, slow):\n",
        "  p = os.path.join(leadup, ip_folder)\n",
        "  if slow == True:\n",
        "    oup_folder = f'{ip_folder}_slow'\n",
        "    new_p = os.path.join(leadup, oup_folder)\n",
        "    if not os.path.exists(new_p):\n",
        "      os.makedirs(new_p)\n",
        "\n",
        "    for f in os.listdir(p):\n",
        "      # print(f)\n",
        "      vidfn, ext = os.path.splitext(f)\n",
        "      slow_down_video(os.path.join(p, f), os.path.join(new_p, f), speed=2.0)\n",
        "  else:\n",
        "    new_p = p\n",
        "    oup_folder = ip_folder\n",
        "\n",
        "  twod_outputs_folder = f'{oup_folder}_2d_outputs'\n",
        "  if not os.path.exists(twod_outputs_folder):\n",
        "    os.makedirs(twod_outputs_folder)\n",
        "  !cd VideoPose3D/inference && python3 infer_video_d2.py --cfg COCO-Keypoints/keypoint_rcnn_R_101_FPN_3x.yaml --output-dir ../../\"$twod_outputs_folder\"  --image-ext mp4 ../../\"$new_p\"/\n",
        "  !cd VideoPose3D/data/ && python3 prepare_data_2d_custom.py -i ../../\"$twod_outputs_folder\" -o \"$oup_folder\"_dataset\n",
        "  return oup_folder, f'{oup_folder}_dataset'"
      ],
      "execution_count": null,
      "outputs": []
    },
    {
      "cell_type": "markdown",
      "metadata": {
        "id": "_Ay3--Y4uMgG"
      },
      "source": [
        "## Get Data"
      ]
    },
    {
      "cell_type": "code",
      "metadata": {
        "id": "L7k_dH9NB8rO"
      },
      "source": [
        "import pandas as pd\n",
        "import io"
      ],
      "execution_count": null,
      "outputs": []
    },
    {
      "cell_type": "code",
      "metadata": {
        "id": "zU5b6dlRwUQk"
      },
      "source": [
        "from pydrive.auth import GoogleAuth\n",
        "from pydrive.drive import GoogleDrive\n",
        "from google.colab import auth\n",
        "from oauth2client.client import GoogleCredentials\n",
        "from googleapiclient.http import MediaIoBaseDownload"
      ],
      "execution_count": null,
      "outputs": []
    },
    {
      "cell_type": "code",
      "metadata": {
        "id": "zRenQEM0ATtz"
      },
      "source": [
        "auth.authenticate_user()\n",
        "gauth = GoogleAuth()\n",
        "gauth.credentials = GoogleCredentials.get_application_default()\n",
        "drive = GoogleDrive(gauth)"
      ],
      "execution_count": null,
      "outputs": []
    },
    {
      "cell_type": "code",
      "metadata": {
        "id": "xIUfoMPV_TN2"
      },
      "source": [
        "from google.colab import auth\n",
        "auth.authenticate_user()\n",
        "from googleapiclient.discovery import build\n",
        "drive_service = build('drive', 'v3')"
      ],
      "execution_count": null,
      "outputs": []
    },
    {
      "cell_type": "code",
      "metadata": {
        "id": "-BwIPF4uubsb",
        "colab": {
          "base_uri": "https://localhost:8080/",
          "height": 204
        },
        "outputId": "190d1be1-f534-4dd8-e50a-cca727d8211b"
      },
      "source": [
        "df_train = pd.read_excel(f'{lu}/Evaluating_TKD_Video_Submission_Responses_v2.xlsx', index_col=None, na_values=['NA'], usecols=['Timestamp', 'Athlete Name', 'Level Ability', 'Move', 'Side', 'Iteration #', \"View\", \"Upload video here\"])\n",
        "df_train.head()"
      ],
      "execution_count": null,
      "outputs": [
        {
          "output_type": "execute_result",
          "data": {
            "text/html": [
              "<div>\n",
              "<style scoped>\n",
              "    .dataframe tbody tr th:only-of-type {\n",
              "        vertical-align: middle;\n",
              "    }\n",
              "\n",
              "    .dataframe tbody tr th {\n",
              "        vertical-align: top;\n",
              "    }\n",
              "\n",
              "    .dataframe thead th {\n",
              "        text-align: right;\n",
              "    }\n",
              "</style>\n",
              "<table border=\"1\" class=\"dataframe\">\n",
              "  <thead>\n",
              "    <tr style=\"text-align: right;\">\n",
              "      <th></th>\n",
              "      <th>Timestamp</th>\n",
              "      <th>Athlete Name</th>\n",
              "      <th>Level Ability</th>\n",
              "      <th>Move</th>\n",
              "      <th>Side</th>\n",
              "      <th>Iteration #</th>\n",
              "      <th>View</th>\n",
              "      <th>Upload video here</th>\n",
              "    </tr>\n",
              "  </thead>\n",
              "  <tbody>\n",
              "    <tr>\n",
              "      <th>0</th>\n",
              "      <td>2020-11-16 21:39:06.037</td>\n",
              "      <td>H.S.</td>\n",
              "      <td>Advanced</td>\n",
              "      <td>High block</td>\n",
              "      <td>Left</td>\n",
              "      <td>1</td>\n",
              "      <td>Diagonal</td>\n",
              "      <td>https://drive.google.com/open?id=1xaXnbMND1HxL...</td>\n",
              "    </tr>\n",
              "    <tr>\n",
              "      <th>1</th>\n",
              "      <td>2020-11-16 21:39:46.995</td>\n",
              "      <td>H.S.</td>\n",
              "      <td>Advanced</td>\n",
              "      <td>High block</td>\n",
              "      <td>Left</td>\n",
              "      <td>2</td>\n",
              "      <td>Diagonal</td>\n",
              "      <td>https://drive.google.com/open?id=1dzAncu0Zt2Ds...</td>\n",
              "    </tr>\n",
              "    <tr>\n",
              "      <th>2</th>\n",
              "      <td>2020-11-16 21:40:24.293</td>\n",
              "      <td>H.S.</td>\n",
              "      <td>Advanced</td>\n",
              "      <td>High block</td>\n",
              "      <td>Left</td>\n",
              "      <td>3</td>\n",
              "      <td>Diagonal</td>\n",
              "      <td>https://drive.google.com/open?id=1E2StfiV7ENtW...</td>\n",
              "    </tr>\n",
              "    <tr>\n",
              "      <th>3</th>\n",
              "      <td>2020-11-16 21:41:52.790</td>\n",
              "      <td>H.S.</td>\n",
              "      <td>Advanced</td>\n",
              "      <td>High block</td>\n",
              "      <td>Left</td>\n",
              "      <td>4</td>\n",
              "      <td>Diagonal</td>\n",
              "      <td>https://drive.google.com/open?id=1-yo-5SzX2jK4...</td>\n",
              "    </tr>\n",
              "    <tr>\n",
              "      <th>4</th>\n",
              "      <td>2020-11-16 21:42:50.091</td>\n",
              "      <td>H.S.</td>\n",
              "      <td>Advanced</td>\n",
              "      <td>High block</td>\n",
              "      <td>Left</td>\n",
              "      <td>5</td>\n",
              "      <td>Diagonal</td>\n",
              "      <td>https://drive.google.com/open?id=1gl6WkI0Q2pD_...</td>\n",
              "    </tr>\n",
              "  </tbody>\n",
              "</table>\n",
              "</div>"
            ],
            "text/plain": [
              "                Timestamp  ...                                  Upload video here\n",
              "0 2020-11-16 21:39:06.037  ...  https://drive.google.com/open?id=1xaXnbMND1HxL...\n",
              "1 2020-11-16 21:39:46.995  ...  https://drive.google.com/open?id=1dzAncu0Zt2Ds...\n",
              "2 2020-11-16 21:40:24.293  ...  https://drive.google.com/open?id=1E2StfiV7ENtW...\n",
              "3 2020-11-16 21:41:52.790  ...  https://drive.google.com/open?id=1-yo-5SzX2jK4...\n",
              "4 2020-11-16 21:42:50.091  ...  https://drive.google.com/open?id=1gl6WkI0Q2pD_...\n",
              "\n",
              "[5 rows x 8 columns]"
            ]
          },
          "metadata": {
            "tags": []
          },
          "execution_count": 22
        }
      ]
    },
    {
      "cell_type": "code",
      "metadata": {
        "colab": {
          "base_uri": "https://localhost:8080/",
          "height": 204
        },
        "id": "FifUcbNTc4kT",
        "outputId": "209cc565-5149-4e80-f4cd-20decccb2730"
      },
      "source": [
        "df_full = pd.read_excel(f'{lu}/Evaluating_TKD_Video_Submission_Responses_v4.xlsx', index_col=None, na_values=['NA'], usecols=['Timestamp', 'Athlete Name', 'Level Ability', 'Move', 'Side', 'Iteration #', \"View\", \"Upload video here\", \"Ideal\"])\n",
        "df_full.head()"
      ],
      "execution_count": null,
      "outputs": [
        {
          "output_type": "execute_result",
          "data": {
            "text/html": [
              "<div>\n",
              "<style scoped>\n",
              "    .dataframe tbody tr th:only-of-type {\n",
              "        vertical-align: middle;\n",
              "    }\n",
              "\n",
              "    .dataframe tbody tr th {\n",
              "        vertical-align: top;\n",
              "    }\n",
              "\n",
              "    .dataframe thead th {\n",
              "        text-align: right;\n",
              "    }\n",
              "</style>\n",
              "<table border=\"1\" class=\"dataframe\">\n",
              "  <thead>\n",
              "    <tr style=\"text-align: right;\">\n",
              "      <th></th>\n",
              "      <th>Timestamp</th>\n",
              "      <th>Athlete Name</th>\n",
              "      <th>Level Ability</th>\n",
              "      <th>Move</th>\n",
              "      <th>Side</th>\n",
              "      <th>Iteration #</th>\n",
              "      <th>View</th>\n",
              "      <th>Upload video here</th>\n",
              "      <th>Ideal</th>\n",
              "    </tr>\n",
              "  </thead>\n",
              "  <tbody>\n",
              "    <tr>\n",
              "      <th>0</th>\n",
              "      <td>2020-11-16 21:39:06.037</td>\n",
              "      <td>H.S.</td>\n",
              "      <td>Advanced</td>\n",
              "      <td>High block</td>\n",
              "      <td>Left</td>\n",
              "      <td>1</td>\n",
              "      <td>Diagonal</td>\n",
              "      <td>https://drive.google.com/open?id=1xaXnbMND1HxL...</td>\n",
              "      <td>NaN</td>\n",
              "    </tr>\n",
              "    <tr>\n",
              "      <th>1</th>\n",
              "      <td>2020-11-16 21:39:46.995</td>\n",
              "      <td>H.S.</td>\n",
              "      <td>Advanced</td>\n",
              "      <td>High block</td>\n",
              "      <td>Left</td>\n",
              "      <td>2</td>\n",
              "      <td>Diagonal</td>\n",
              "      <td>https://drive.google.com/open?id=1dzAncu0Zt2Ds...</td>\n",
              "      <td>NaN</td>\n",
              "    </tr>\n",
              "    <tr>\n",
              "      <th>2</th>\n",
              "      <td>2020-11-16 21:40:24.293</td>\n",
              "      <td>H.S.</td>\n",
              "      <td>Advanced</td>\n",
              "      <td>High block</td>\n",
              "      <td>Left</td>\n",
              "      <td>3</td>\n",
              "      <td>Diagonal</td>\n",
              "      <td>https://drive.google.com/open?id=1E2StfiV7ENtW...</td>\n",
              "      <td>NaN</td>\n",
              "    </tr>\n",
              "    <tr>\n",
              "      <th>3</th>\n",
              "      <td>2020-11-16 21:41:52.790</td>\n",
              "      <td>H.S.</td>\n",
              "      <td>Advanced</td>\n",
              "      <td>High block</td>\n",
              "      <td>Left</td>\n",
              "      <td>4</td>\n",
              "      <td>Diagonal</td>\n",
              "      <td>https://drive.google.com/open?id=1-yo-5SzX2jK4...</td>\n",
              "      <td>NaN</td>\n",
              "    </tr>\n",
              "    <tr>\n",
              "      <th>4</th>\n",
              "      <td>2020-11-16 21:42:50.091</td>\n",
              "      <td>H.S.</td>\n",
              "      <td>Advanced</td>\n",
              "      <td>High block</td>\n",
              "      <td>Left</td>\n",
              "      <td>5</td>\n",
              "      <td>Diagonal</td>\n",
              "      <td>https://drive.google.com/open?id=1gl6WkI0Q2pD_...</td>\n",
              "      <td>NaN</td>\n",
              "    </tr>\n",
              "  </tbody>\n",
              "</table>\n",
              "</div>"
            ],
            "text/plain": [
              "                Timestamp  ... Ideal\n",
              "0 2020-11-16 21:39:06.037  ...   NaN\n",
              "1 2020-11-16 21:39:46.995  ...   NaN\n",
              "2 2020-11-16 21:40:24.293  ...   NaN\n",
              "3 2020-11-16 21:41:52.790  ...   NaN\n",
              "4 2020-11-16 21:42:50.091  ...   NaN\n",
              "\n",
              "[5 rows x 9 columns]"
            ]
          },
          "metadata": {
            "tags": []
          },
          "execution_count": 23
        }
      ]
    },
    {
      "cell_type": "code",
      "metadata": {
        "colab": {
          "base_uri": "https://localhost:8080/",
          "height": 204
        },
        "id": "XEkmcz_RBonV",
        "outputId": "34da9260-9b66-4e05-a6eb-4ff60c6fae36"
      },
      "source": [
        "df_test = pd.read_excel(f'{lu}/Evaluating_TKD_Video_Submission_Responses_v4_Test.xlsx', index_col=None, na_values=['NA'], usecols=['Timestamp', 'Athlete Name', 'Level Ability', 'Move', 'Side', 'Iteration #', \"View\", \"Upload video here\"])\n",
        "df_test.head()"
      ],
      "execution_count": null,
      "outputs": [
        {
          "output_type": "execute_result",
          "data": {
            "text/html": [
              "<div>\n",
              "<style scoped>\n",
              "    .dataframe tbody tr th:only-of-type {\n",
              "        vertical-align: middle;\n",
              "    }\n",
              "\n",
              "    .dataframe tbody tr th {\n",
              "        vertical-align: top;\n",
              "    }\n",
              "\n",
              "    .dataframe thead th {\n",
              "        text-align: right;\n",
              "    }\n",
              "</style>\n",
              "<table border=\"1\" class=\"dataframe\">\n",
              "  <thead>\n",
              "    <tr style=\"text-align: right;\">\n",
              "      <th></th>\n",
              "      <th>Timestamp</th>\n",
              "      <th>Athlete Name</th>\n",
              "      <th>Level Ability</th>\n",
              "      <th>Move</th>\n",
              "      <th>Side</th>\n",
              "      <th>Iteration #</th>\n",
              "      <th>View</th>\n",
              "      <th>Upload video here</th>\n",
              "    </tr>\n",
              "  </thead>\n",
              "  <tbody>\n",
              "    <tr>\n",
              "      <th>0</th>\n",
              "      <td>2021-03-16 15:28:24.060</td>\n",
              "      <td>S.M.</td>\n",
              "      <td>Advanced</td>\n",
              "      <td>High block</td>\n",
              "      <td>Left</td>\n",
              "      <td>0</td>\n",
              "      <td>Front</td>\n",
              "      <td>https://drive.google.com/open?id=1zSjq2YdrSssA...</td>\n",
              "    </tr>\n",
              "    <tr>\n",
              "      <th>1</th>\n",
              "      <td>2021-03-16 15:29:04.184</td>\n",
              "      <td>S.M.</td>\n",
              "      <td>Advanced</td>\n",
              "      <td>High block</td>\n",
              "      <td>Left</td>\n",
              "      <td>1</td>\n",
              "      <td>Front</td>\n",
              "      <td>https://drive.google.com/open?id=1h4_jIdjN2AUB...</td>\n",
              "    </tr>\n",
              "    <tr>\n",
              "      <th>2</th>\n",
              "      <td>2021-03-16 15:29:46.705</td>\n",
              "      <td>S.M.</td>\n",
              "      <td>Advanced</td>\n",
              "      <td>High block</td>\n",
              "      <td>Left</td>\n",
              "      <td>2</td>\n",
              "      <td>Front</td>\n",
              "      <td>https://drive.google.com/open?id=1GXwsd4FWk4wc...</td>\n",
              "    </tr>\n",
              "    <tr>\n",
              "      <th>3</th>\n",
              "      <td>2021-03-16 15:30:29.401</td>\n",
              "      <td>S.M.</td>\n",
              "      <td>Advanced</td>\n",
              "      <td>High block</td>\n",
              "      <td>Left</td>\n",
              "      <td>3</td>\n",
              "      <td>Front</td>\n",
              "      <td>https://drive.google.com/open?id=12dRD-neYFUZP...</td>\n",
              "    </tr>\n",
              "    <tr>\n",
              "      <th>4</th>\n",
              "      <td>2021-03-16 15:31:04.491</td>\n",
              "      <td>S.M.</td>\n",
              "      <td>Advanced</td>\n",
              "      <td>High block</td>\n",
              "      <td>Left</td>\n",
              "      <td>4</td>\n",
              "      <td>Front</td>\n",
              "      <td>https://drive.google.com/open?id=13_Aln1IFeXnM...</td>\n",
              "    </tr>\n",
              "  </tbody>\n",
              "</table>\n",
              "</div>"
            ],
            "text/plain": [
              "                Timestamp  ...                                  Upload video here\n",
              "0 2021-03-16 15:28:24.060  ...  https://drive.google.com/open?id=1zSjq2YdrSssA...\n",
              "1 2021-03-16 15:29:04.184  ...  https://drive.google.com/open?id=1h4_jIdjN2AUB...\n",
              "2 2021-03-16 15:29:46.705  ...  https://drive.google.com/open?id=1GXwsd4FWk4wc...\n",
              "3 2021-03-16 15:30:29.401  ...  https://drive.google.com/open?id=12dRD-neYFUZP...\n",
              "4 2021-03-16 15:31:04.491  ...  https://drive.google.com/open?id=13_Aln1IFeXnM...\n",
              "\n",
              "[5 rows x 8 columns]"
            ]
          },
          "metadata": {
            "tags": []
          },
          "execution_count": 24
        }
      ]
    },
    {
      "cell_type": "code",
      "metadata": {
        "id": "tAi0ojuM_CEf"
      },
      "source": [
        "def get_file_ids(df):\n",
        "  videos = {'Front': {'Left': {}, 'Right': {}}, 'Diagonal': {'Left': {}, 'Right': {}}} #view --> side --> moves --> ids\n",
        "\n",
        "  for index, row in df.iterrows():\n",
        "    view = videos[row['View']]\n",
        "    if row['Move'] in view[row['Side']]:\n",
        "        side = view[row['Side']]\n",
        "        side[row['Move']].add(row['Upload video here'][row['Upload video here'].find('id') + 3:])\n",
        "    else:\n",
        "        side = view[row['Side']]\n",
        "        side[row['Move']] = set()\n",
        "        url = row['Upload video here']\n",
        "        # print(url)\n",
        "        i = url.find('id') + 3\n",
        "        # print(i)\n",
        "        side[row['Move']].add(url[i:])\n",
        "  return videos"
      ],
      "execution_count": null,
      "outputs": []
    },
    {
      "cell_type": "code",
      "metadata": {
        "id": "ADTL6DWbbc4J"
      },
      "source": [
        "def get_ideal_file_ids(df):\n",
        "  move2ideal = {}\n",
        "\n",
        "  for index, row in df.iterrows():\n",
        "    ideal = row['Ideal']\n",
        "    if ideal == \"Yes\":\n",
        "      prefix = f\"{abbreviations[row['Move']]}_{row['Side'][0].lower()}\"\n",
        "      move2ideal[prefix] = row['Upload video here'][row['Upload video here'].find('id') + 3:]\n",
        "  return move2ideal"
      ],
      "execution_count": null,
      "outputs": []
    },
    {
      "cell_type": "code",
      "metadata": {
        "id": "uIsTd6H9DbfK"
      },
      "source": [
        "def print_videos(videos):\n",
        "  for view in videos:\n",
        "    print(f'{view}')\n",
        "    for side in videos[view]:\n",
        "      print(f'\\t{side}')\n",
        "      moves = videos[view][side]\n",
        "      for m in moves:\n",
        "        print(f'\\t\\t{m} ({len(moves[m])}): {moves[m]}')"
      ],
      "execution_count": null,
      "outputs": []
    },
    {
      "cell_type": "code",
      "metadata": {
        "id": "RcjOB7ikBXVk",
        "colab": {
          "base_uri": "https://localhost:8080/"
        },
        "outputId": "6de23d04-8f73-4dcb-a3a3-83a2645a1c09"
      },
      "source": [
        "train_videos = get_file_ids(df_train)\n",
        "print_videos(train_videos)"
      ],
      "execution_count": null,
      "outputs": [
        {
          "output_type": "stream",
          "text": [
            "Front\n",
            "\tLeft\n",
            "\t\tHigh block (25): {'1Z-epYLjpKyeroDRKdEixoyiN_Ewse4Bw', '1dA5kLSxNcw2i8_ZzeJU1xrRmjZLvLGc7', '1J0ODCUmJ7iwArCeCbEdqDQNNuM-WMXd2', '11OasZyIWhI1kex2dzuEBW92mzlQfX3rB', '13TzOteRlxG3IGkBICiTfrrazdpCBaKQ_', '17hGfxOEs2QAziEqVJLjGbfLN_bVIVrby', '1AWRdXabW6Rq1wtgnWtEbfPikGQqYxzjF', '1xK-4-pgFffXzqqhUSPnhvuFWeiyy5iwk', '19mMLbFSblNv0iZwU52w9jrP5p4SUPWuq', '1ZDfq3xs5gW93CFZmPojTi6xOpM5r9fZ3', '1GRQqaYTZL7S5nKUomTr13zkCmkGT7UP5', '1amIGHLogn5OZt7_PTsnGt6ekl2xkGs4p', '1SYjMssnHbkgXnNoiE-bheZXdL101br6d', '1We_6QsEUHLs3tGiKoINPTk2Dkh2FrkMo', '1BA5NgouC4PETKRN1j-TiiM5xE3NZWsoe', '1mmP7dOcK4iFHaahKuaJidh7PbzSL0iKb', '1bJxIOdkkvfQJR0HYmLKNLY12Xro0o-Kt', '1SlJZ7xlqKHdMNqF85FBNvmz1p7ZfgFqV', '17F_I-7WU3vz_sWMhSRbhRmcYe4wxtMYq', '1jCYV_acB7DTPivznBTwkUBPCxop0D_ea', '1JUuGU9eAn_MlzNEGmYn8JH8HNT03HGtK', '1haZRJ82yi9MDZH3WjU70ctkKqMJOQmAs', '1vVuEHWRInr4IA0Gy0HBsEfgSqkaZC0GX', '1cW7MGyw43JC4pbxc3bCJz1H0Qd-N47gJ', '1KGwcSyTUzYm-vLS-IANhi-5d57FyePKt'}\n",
            "\t\tMiddle block (in-to-out) (25): {'1mLTQin7e_hgPFmdOb2prjArmgkNYpZhk', '1WpuoZ52hRwTbHCbC56ICwwUwnP3ifuEh', '1drbDs1E-BsO6h3crV_NbXTf7fczxscJi', '1uQIZKUWVgZ_V9W4V3GJQoCUDYM4AbyPL', '19hlje_vd-tLTANhzaSxcdMcc8pERLzLT', '1FbCEhhEIwIw5V4vVjP8qQWlDQwnm-qZf', '15risOWBJHlPt805ARkUdLngQXh6szUCR', '1AZlrDomJST0vinwi0xt8q7lF8OGGEZCd', '1tsWnowRmlAfEN5cYhtNOHLJsjBv61oZx', '1JF-4q1T296dfxntESlbmpQ0MVmIO3YHk', '1Cg8bXgOQsik_3d-pVJiBoH4ZzoH7eJh-', '1cKcLIEVb_yeKpxglhjmQWcKeEfaYv2xB', '1jho-iuSGm0TM60vCDIMrQW4C6lQgw8S8', '17Rs-mg3OCXHncBEyCxp6QoL1o2jDqEJR', '1ScvD4RsxqdUw0B2Jzj-0XxwcHfcKCsP9', '1lnvvD521KaqFRiulaDOKg0pYpaU1P8TC', '1D_ILJAWwC24it_YgXB58SLnaNED56EoA', '1fmXZdkXi7QktFTaFJvZicEBKEGQ8bK26', '151RuWyZgdNikzNniWpDlLnkAqaUzsBsj', '1AWjJjx8jXQy5FPVOSHU7zTOFYSsgc44r', '1a31VHVxXZv18AA9mWgSkpTbAFj1UsN4q', '1hSN7NoZt0E5GAT8snYubqg-koVHxFXzD', '1TR_BZIeY5a0YM8OEy9cENZJtBet7dtYX', '1lwLDTK47np-FZ8Ht2KbzJm4wR1UgGToZ', '17Ui5J3lAO1P_HUrMC4NgDCYmNh4v9IHq'}\n",
            "\t\tMiddle block (out-to-in) (25): {'1IrrWsa6L3BtOUeG757hnzw8FsUIApO29', '1XRGQi0g6IkDyXYgYvsdI2dngggJizQLs', '1nvzqNZFil_9RDk9m5_PuuPEkKVIjHBcs', '1hTnACn1LUYSgIBIJJrhfHkEL86BK6Nt1', '1liEud7qkAawoUhkgYPogJB4KOITKbrvy', '1XkhlVtvajirOCUdDqzVdEAVIVjKdVFqB', '15nIltWgAAZrI2wKAXebgGmjUkdx8frnb', '1iHz0r2ZH3H8q6SgHAEPE_Wo2zao13kiL', '1LTgvFcGD6lI6HUafOU48kDIp--jPrUZh', '1cdAZrB2o0jO8RYYli3T1FgPI9gSySC-_', '13vnwP3K0l5Z2QILuJQXJ1GI2xJCTZdx3', '1wQksaaZTjwR4DluzmCHsNspbU8sb7_8f', '1ibLK7Ck24AQFTjUYpoUlyl68ZGKLY53n', '1WuSvl-j_mhLUAC4oTWWPgNGMSlfm7nj4', '1eXc0Ix3mKJPqeFGQo7ib68ou2dy7npgb', '12JiDsv3TbJ8EuIiBTqr4kdkwrBIp5StK', '1j-Dk57l3XPhiKVeU9yZJtab5kcH05Hqr', '1Ew_Mu_CeV3J3Op4Dj3VRV6dtibKx4dvB', '1Qqfjxagu9R1InNKe_MFudGcxueveVMry', '1-xUqhExKLufyJLgVMDjl591HZSrp5M4n', '14KuEH0ALOBeRYfY3ylEEBa1Zs-81MOYl', '1MWCZ1THjmn2LQM6f6kwc5qxABN_p0oDL', '1EX6KYSTOfwRZAAjrGCRbmRtjRVntzFMt', '1UKlpNM7EH984YbTJGKyPePOO43PRULTz', '11AGVtJWd3LdUxZvYqZ4G9-5wXdvo8p5G'}\n",
            "\t\tRound kick (30): {'1g1x8PkKQ-VMTlusvxLZSLMdsMO6UIoxG', '1UyLBWg8sZCGQcJH56iHl0e7KjisCMA1M', '1opRAcJ99E0Sonlq-FkJ_0HIR8H2zMFvi', '15MLCEPuLfY7GMrmloqoFLgDHp-xnpckm', '1xbPeVbQBSVhFC7scCfAIGb0aUYvb4HV3', '1xbKlrsy35qWjeOTOwxxEHW-r9rca_L2u', '1k48JlONaEmbt34YqiUVy_m9aVU8lVcks', '1zuoZqXaszoQlXMgvcKWvdmtFdh6bYqXy', '1ugtOO_ZmSNm9rUh93zqv_EtlF-BzoMQt', '1Nhhryzxnf45p1LMDD5YjgqE8J1FjnakY', '1t8fGwEJULE7d7tTL04YWRnH6Gm9eG_wV', '1Wq0RMBE6pQa2t_a7lkX_H1FCXwCz89X9', '1GwLekXWdWNSmC0WD0EerMaFQaBj9U3Ky', '1j_3i7XKuf6_fWTB4oBWtGHzTPrLVrjOq', '1QUlPhJn4ZHFyn2YgN7BGgMf7iykNVVpi', '1AV4X2DQiHO5jS3-pB5PNv3UX1EuNJG1h', '1Ih2E5YreivTUEuCHiC6eDHTbsbC6Cl8j', '1_yGfiFkJJGTb9vxMHvULaT5d1yoxU_hI', '1ssKlCo50joIjjJk4HmkewkUKYLlPldSX', '1Xi1eParBtsFb_Sg30bWEOhBltflhfpaT', '1W0z6jXRO4-w3j-IfOkGr3uAqwguXRxU9', '1p3Q6kZgnjAHF60eGMxV2HcBuf7NjybH8', '1t5cxiC7S7lnRCBee1PA9uHjDdQz0a9ZM', '1p1feZHOYMkjssPrtDyM_vqRvTcJXvWTp', '1RIjwBSED8WyYnvArhhbjhDcE5klhMjcu', '1zLUT-ul-tx8B8FmNPy8ltErx51KEitwG', '1koITUOBR0AJGmJQkcC2FOhaadTme3y3E', '1oYQlAOmhLY8_BqoxEqPpPe7kZVjRqtyU', '1IT2irJ1sOMdrWrs2RdEg8LAegFNC_DPF', '1EpZm-f19a_kKLW8Oxz-EwyK_-7JySvOu'}\n",
            "\t\tSide kick (20): {'1JS_1be0tFHrhys2hFTA1RHJ90oJH1ViO', '1epUfFwA9DFVbYQ3-zEKg-9ZaJabQv_iR', '1sdnDYGQjbdK_B4WnLkNHbe3bhHFU8GyC', '1Zalk2xOU8YqsWxeBZTJlUhSTgd-KPWVr', '1BBStlDNEMbToUtONOl32AozPK5VGglys', '1qsPzVebaO56rcKJy5CljFVZ2zE4uURuS', '1iSLUAIxwnGdLWQCQYI9IKTwuODeE2sP9', '1S543sABXSKv2ig9dz_Xn8TKuDuQnUKI8', '1IYuPKQl_wQAAaG7kcrMLo51rdpw0QSh7', '1UvfLRsA-ceQIhLcRFygHvrv_vivU2D46', '1Z_2jDxTaTO843aHILwz4XVMH0zAqgfr_', '1Sr7woLzyVkXvz47oPlcTmuBdhFYJIFHk', '1a1n7uwLm30CJJMDLeHdf5pa0GGrWy74y', '1HhMfGnWo6JKyuoKdDajwuyhxaiwq2sS8', '13LoNE3MCZjpgWR_0CRyYLQpvBfb0v7De', '1r3GJvJXLNP5hZ-cytLV4QNd6GpKC3UOP', '1Jkf7c0IJ2WjO5lyTKVZe0AJSC69io1TY', '1hzjdjlN1RBPygAYFRK9m8oXhWbrzs90V', '1zoOHhJvEqTboOdVSBwrv37wIJhByws-c', '1yCnwS6ZaAkKIZLZ606Gfhk9ZfXhRLcj-'}\n",
            "\t\tKnife hand block (25): {'1WJWPwg9jRc1WHbJuMQ4_vTAeGpQQuOSK', '1ci1RkVW-3ztzpCMxmOSYoA0ud3SPPo_l', '1KlplgCjjsDCyC9-1Bllws4q5alanR52C', '1X9DpBXIVEQcxkSOBSl0PsEcWn0agWbsH', '1oVDJJLR_t_OrpdP4640eU6q4wiNkrXNS', '1kAUmmH_oihWSQoGCngez50oGoYgHOUj6', '1uDFt6CVAST7oOiXvdDknGt0o9kOH34r1', '1YkpwaINK8AcVYDiPf8ufwgk6qNSfH7kF', '1fZ58XEjOldOlOgWyi1qgKCWsiJGjdZ0-', '1cTIn0P6y6WcRkLLR-H-OrSf8E1zWI9kU', '1DqWsV_9sYruCHG52UWmQXrd4108Glgcf', '1eV26CNprRv_cgobycyK2CYbAnRhZ2rgn', '1O0TBv2kYgsGiYVTILuQZqttRhckGK9QY', '1pnK40seO9Cpa4O1sfNjYjnd42dJk_8EA', '1ZvnnmZEOi4hx1TdwOknV2dOJ4vKq-gYC', '12MXZT9oVETWngeZlibxU7Z47xcwAO0bz', '1Xft67h46TZYvXf5dmFK2oH8mpPWYtSfD', '1fxRDdp_aa0bip4E8_wPa5QjbTXCRx1Xs', '1BGOTO_gRTjpiu0x70MTBAJ5D7kyOZf_W', '1-4XgRyvq5fBxhHxx8iV8qmTyrPrJUVby', '1Fj7ey5QQzF5slrASNUGEC1BDSziGrjMT', '1ttwXhHFZycUgUiA2x7NxXw2cPhX2IILY', '137DR7QfEB2nIzilhe5kLFOZsFH1hFRNe', '1FZ_i7Pk6eA_tJtdBc1i4AmW40bUJKUSM', '1n6wkpG02oeDNpJEjnj5tApwPMSG5zpcJ'}\n",
            "\t\tLow block (25): {'1clYdJQ7r_-iXsZNGQl7IG0cReLWsvFS2', '1f86-3jS9LkIGGh0e4JATmG4elmtxUIn5', '1ixGoUnjWhtIVFVk7duhIYWTSC2umcQlK', '11PtTr5N6ZwCG4rWZOw7jfUVeRBr97lXc', '1BbgQxevPtQBu4MyW3gKAbuW2GKFytX-M', '1FlOJetR6YOY4RsOrAjOKReVf4v506eER', '1J8WjJrrJ-TO-zGPn5qO2r6yvuTm0bulj', '1g1Yq6ewk6CIsnv061sPqu2ttCMkK62Zo', '1q83EUAc1o6xbEvg0b9uwD4ENE6EEsh70', '1Y0kpDQfonQ7Vd-IafDaSlbmcVtOKnimS', '1NF8y-LvDxkUO7Fv38b8yih7fH7DCQ7v2', '1-w7Yt-XfJFdlCLfzAeuYz-Z0mdyBcyqe', '1nrioZuhxfj89kc3aLX6CVWY-AjtEzzWm', '1jFhA0om3XW-vgZuwsgm20tZeTewinoSv', '1eccBmiqt6EeNLO_okm3X88n7a6Ooa2tT', '1thtj_m5AukVAUodUWAI_f5MXs1hzeVAn', '12ySG50Kc6YE4pAYPVeBrZ05v_IqqBttp', '1WiGlA725Ft_YiWLxk-wwBNZMe5lHgfD7', '1aL-rGlaecp_XgJLDbAnG5F89LUosy0P8', '1f1naZbjNW993CuQjBEJAKMY46ejWqjGU', '1aPMwPLai3oQsg2cAiqGTjMHFeiQ6CYA0', '1OHynL3jNPP9b7l06jwY9NwWzYuG5RqbO', '11veQtm1zEz8JaSyltTz7RzOxF6C1FGdy', '1i5zpp8cX3oZtf2Ha8hdvQjGFv5dRHDu0', '14o9_z5JD6duAp96L5Vqdzecn4f0wCYjX'}\n",
            "\t\tPunch (middle-level) (25): {'1wK0-wdN-Iug-SXMhXyNIiQBzlJijLWWu', '1pjSjXLBVKHyDb1r1wV42FtlITHDkHNg7', '1oXQGjXL0J5Xsr3qg2U6TWw_8bZ39DZdO', '11Kg7K3oRfUUmLsDXvyocSpd6XZzXtwAH', '163i9juB_TuIIT9z22AiK6IIr0JGbbXoQ', '1kgNMgI7P5IHGXizFqzIgda4hdS_afAze', '11mKrS-ZuGI-jCr-DR9PQBg_TcrBnaw3A', '1W33ZoAnvgihLLfBCb5bzI2UohSyt_h43', '12XeVUWGCbmomJLM8G0CRfadPEAaMOnXo', '1FeVD_pIROzqf9ktWMwR7zjDBO4aRsljc', '1B5l3kHHiQFc_lcfe8kwl7ThNlVd0S4GY', '1D-0-fHCpGnaZvIeHyQhteySAcxnt--02', '1mJFLBgZsVl1PXgX57wGxqtlsAqI4mPwC', '1njVSU8h_c6y3wXLy9aznYpw25gEvQsmS', '1ZtqoLPw0ik6SJdH_QqbLROMwP1hABgb5', '1OsjGecMYoydqScSYX9WTVuMOmvnmIuIm', '1FhODjRD2x1ZZDnuIilfXFZ4ONZ0tkjAv', '1vIiTK13TGU1eCK85uwkKuwZEqSB3ci7i', '1vemzsXl_2MXz6rwt7vuOD0eXPH9-9Z9X', '1s34pTtWOJDCvJFRXoBfiHDy1LmVxJObt', '16BZtTAWfsHdRhefQeAUbsq7-59HeMD7d', '1v1yYLgpL8KA1YhJU1Nkb2nMAQQILh1Fv', '1ArxhP1pcD9V9Ae3AFGpk0S9-FNqO1EsJ', '1mQSUP0yijlVaRtD1MU9R_Q7tWf92PXv9', '1wxBekqzkDn1Hiq67xQFeJ4rx1NorsTJ5'}\n",
            "\t\tHigh punch (face-level) (24): {'1x9H73Fn8OK1DFN4YnkHd0K2FfxY9XQe0', '1kx1eORoLULE45R2xSQiC-epXn33gZoHb', '19w_mSjaG073HP09YGS3_RKNWye93cLPT', '1sYEZ3yKpn2Gj9NvUp4MBo_bayGwnZLGM', '1cPTIaij1TZxSgX5PMkDgpT1KF40YK_BR', '1Q_NlnRb7bPO3jMFWakNBJ0HTXOvb7HRU', '1Vz4wNc6DfORf1LS8ivt34tGA0txqERL5', '1sr0ZssiqDiJ1O1dXTy76gJsOY6Yi6xsB', '1zL98XpQCOEk-2g57EqPpPCTFrVSNqQ9l', '1MjeQjFUtlyYjf7Wwbo3YbQDxWXD7AnuB', '1WxS0MGhTazdao8empID1oeWWzf6QrqqJ', '1DSnIdfsfgCIHNifxe8S_C3QSdj0RHn4F', '1d0M4P9StWYr8OsEHxxTct_vKISbjF6UZ', '1hpOimR39b_xNoZTzfz8FgWoYrftaqME8', '1teJdxnACy89ZgzuJ13U_yyTSCqMBj12h', '1-DO2eDpa6FFbXMeat0okpbwHNSY2UCs1', '16DqLwkAb6s803BY2FvKrx-aLQXrg0fdO', '18wnGy_s5N8B8-dOSCA8JKZG7_ra1MGsY', '159inLkxQlufjEXvs1ZZ3EHafB8cenKQZ', '1_lIi0_AsG7VjYfw1Giywnwv9-gTbWEuy', '1FRyjL9A8YPcbeBwO2_PeGESINWfnY11g', '1cougg9PYcYLP4fwm-vfCHvPzA_4KE1FS', '1ln8xc0lI3jkYfTofO_zubCpXytXWooWT', '1OUO2284Xf1aYEPdemsnQtyqk8BE-h5UZ'}\n",
            "\t\tFront kick (25): {'15nae13rjE5xb-RuE-8QWyAg4tw3irYDK', '1b3HQFh2hEA1KgbxEofL5xoURLYTqa49Z', '1U-Xf4R96f03d1-jLueNwz3Oym-80eRC4', '19kTOLjPcZbrrnItI60evZ0Ue6vi8zoCR', '1cd5_wRjjoMuw-SVj-w-5xNul9vwfjOmy', '1F42Io7iJATfgn4DXoWtojNVMRyinT3-4', '1pRCgfj-pM2SWm2f037mi3slzPGs1IYWq', '131scFUwTELkK26nDanGQk06pfOFG4T_u', '1DMugMSkVHZpOcq8xxYuxmKRxxI8TvDDE', '1omDJYkito_ZoTV7kytgavGNkLpt_cnpE', '1Rg74WTBZQxzfB-46pDJAe42tQ_s9L7Ii', '1xEEX_-oBOoofEJjD8NeuNIOmimLToQbM', '1L25X9FFBi0R06SYFafXLzqtwFgAnt335', '1_0BhBRduGetVkmrASVbbJ0EihuX30hOV', '1Pzxbmbzi52iazJnfVHIHdidFR8dBrc9e', '1iNJm_a-_E5EITIQZDCMmU214c3OelTlJ', '1IPRhEKx7kkj-SQfonNXWfFqnI_pKmBSM', '1dvLfxyfhRkrjghxfN2xDbxTCuedXus1o', '1Unhey9VqRPdGSCL6O6PqOmQSr17UgYgQ', '1y4Qf6S8-JvpK8a4exTu1hhbfoYU2lhkk', '14l2W3_pgVwWeAHCwwsV96AvA_fiIG67R', '1KwOlcT2zgncG_9ILsiwmbIxynPJa5lRu', '1gxMQbqAQbq-jbibKeH8BbbYh5QrI1eyr', '1Ny-2kMJT03Q1vkp85PHuEPUFrlP5Eeor', '1EOZW3BkU4Z5Rq3vHNCyA-MyhpAilryEc'}\n",
            "\tRight\n",
            "\t\tHigh block (25): {'1khVTG36lNC9yYyBH7g_sgvhW1-G59QjM', '17ZyDCo1lq6h5VV10NbkhI8UOKlBctsgc', '1-35ieokpYDQskyNK12Q4Yu2iXWDvZfzg', '1EXYjliSGhDjBJNfdtnjS4WKvzd3J3Fyu', '1jhavDpoQGYQtkAzYdPcxcyKZCViL503z', '1-suGtH84DpAXXWz31Ur7b58MvMaY2hoS', '1iG4bNiscpgMlkwuJ-7Ecmqj1t4tDEJ7g', '1AbAHQ9BL-fAiv1PlSclCQhTncLwB3SPu', '1JCWpfzr5DRKVCn7dB8xBHsyLziXO6fPk', '10Fz1s3a8HC20j1PLJsBepYACjaBorneJ', '1ETccIvBDoqCX_48ClCHL7E6oKdn7tdrR', '1lP9m48dabDNf4ZoqqZ2CA0LNAiL_A2Pl', '1HuQoy7gz5EE4JA4fJSsA8_iizgstmb7j', '1b4BGYaURs93GMDClx9vMy-wPLnkF1cm6', '1ZOSr27xm5QzTYQx-WL8aNN_vVWDUhbJ1', '150yMDx9bfNW7Ity9bJztHpzvUUNTEOJf', '1vjasboT3DE3AUMOuxcFqHpvxMmVLyrWM', '1Q4MdZK05hJhO7Kbu1OFmo2nZ44_mjiEI', '1mCuNet-l9W0LbDIAETuUX3E1Ebq2WndN', '1_vVDChsh--jjItPi2Qw7Pu-c7kpaxrRw', '1abpIqKc4nmcKg_Fr_HjRYF0DkXUUccP1', '10RFG_9ccfiRxAMEz7A2PftVdqJFL-OUC', '1XLSioqlkTqCJiswVTntBcowDfzx8OB8I', '1zAoTlAVXvScjogdmhpFC4XP6eEn7KrOn', '1IpoCMVPL5PaB91_VyelNpBTgP9hkf6Q3'}\n",
            "\t\tMiddle block (in-to-out) (25): {'1OUFNICkQjIDYy21rc6qRQRpdNNeAX6VS', '19kq1Jk3qQUpyiTJzNvrrHvP8YYMokdA1', '1dM9n9Zcl8CCco3JWcMV9Y1YI5Sz1y-MH', '1sXxFxvHs4DIiK8vZx6Ve8cSCyAGWZGXJ', '1VR_LUGTyuY08dpiy26YqIGF6fwWHR3R8', '1NJlCVBdz-8q2HYH3XxKtqVVSV8TrSQuc', '1eUMidKneLvC6MjHC-Upfak0XrLASYiKl', '1NjE2Qm639V0ZtjTcPDyOy3lDuatQs1iM', '1h39XDw_IHBFLkPRKNC1bSeBLQO_0T4FT', '1lJhnsRa2N7sUwIwQV51-uY1WU-QLYejv', '1jlWe9Zy5a2Na2PKrN0s6HfSzC701tzdD', '1vM-d0_cs-4cA1rNJTxi-9ULSv0YsARiG', '1j4it4wB8nzYz3grrGmqQkJkDLUm_Idw1', '1XPpMAMtUer82Px5sOsP87pdp7BgLqv1x', '1_QPxET1Hw7VY_21ZTRZx4YQC5MFI2631', '141wbMvq_kCwOJBvCYGF2bT5xkkAVOgyi', '1616igfNbmHFUpWXhNRGHmcrCJZl8y0BQ', '1iFXSBvhhnrOuaMnfKkh_FMfIw3irr0EG', '1OERxyvI_InxnmFHMF_kF26r0yBf77jx9', '1G1hG97UjTuMY1CzHsW_oSvGP_L52ctxu', '1gyFeFrGpKrhoNf0NlAbR9tXl7zChFWtP', '1y-dzFu9xUCyEKEwZKim-J_Zs_R_aKT2b', '1BDegTopIShpZ5xoITu0XPdixMzKOt_V1', '1wJUIwsmdnk3jfkQ_fYsNVZ5vFVj0YBJg', '1EmKf_DboOz3fSCa1xF4KzWF3A5RKqM7d'}\n",
            "\t\tMiddle block (out-to-in) (24): {'1O0R2k2LX8sD2w3YemUeFZLWwy5L2wE2H', '1c5CizB4DbCRHpqn8CK-X5jd8mbCR0E9p', '16QkOah_xVKi0_C_iDzeG2I8oLqbJgjGz', '15SRyYdqzbpOj9gpCFG_sl8wWCnUfZ8ce', '1yaeUSBG8j0A4myYlVXB1slq1xx251fHy', '1JFDFuhEDG7SLf8L2-_FY4UHOTYzsEgF1', '1qlHy0qTeHuRaKlkZbnPzKN7osHZTryWi', '1r5x1IlR2qT21Z3JGV9l1EuPmR3oMc4B3', '1YQOAvdD1V_xfmH74EnpA2cnOTrZIJ01-', '13Ed4XhkNclVN_opA6hV9Dm11d5gmOFal', '1qKvrNNXiVOW9-C3mofMSrgS-07mtPBhm', '1coxphafVJZlThDfl0Cxg8mYfqpSS9q5E', '1OsAAxsYC3EAxLASg6n02JDBmh4XVRB1a', '1DuU9imgVUu63p40j3nXFz-oo8sdorQYu', '1VZy-vjsdRzHf1aYPg-UGmMOh3CfKmJkx', '1Lh9uMj700A10d3YOt7EYzLPm838tICJQ', '1UeCukgufwRsX77h0GHQsX4OiZmYYP4yJ', '1leAEatNUjoYzBrGhCnk7vWnGMgOiig_D', '1g2QmA8wFmtVs8xk9w5E6JVY8d8KKdkfj', '1RJ4kshGPyxrfDHeOu7yeCXPKnXW4BU9W', '1WkyO9t4puxohH0ia6_GQIU_oM6cBE1Gn', '1fCfaJj9CRtcMc4-bU2zGpkm8_yXdFUsI', '1ZXqK2SWZbrlyRYneyKOCI9j2fWSgKo8l', '1alIn1BTr5q-qvmUpPs9zQiVtIc5qTy4F'}\n",
            "\t\tRound kick (30): {'1fHGDyRRpd8j2AEsbds3ENwjEvb5gCrHP', '1eYHQ4nxzXYqAqfBGhcx_FIYqDb3fOnY5', '1aeP_RX-J0GvsTW15BQm9PDqoJMoX-S7p', '1QWVBADuQWSgZce2-oaadZOZXeofoiH8C', '1-ZVWax3TM34zQAcM1gb2rJTVcn0uiMjc', '1nFmElTBm9cBD9GvqC2R5SlqTpcYqhvaf', '1w5XtlJpUfE550KoMEpyZzE3M-BmM5tyQ', '1JZGKgkt7om2FGQHoDcdsOnlr5H-PyzPw', '1MdqBWd2Svt-YglmMawFZ7n5x-7F7t5PV', '12GARefe3JTvjyNa1Y1ikycICxcGpXj3A', '1UVyXNWOoyGH7OkOOhWn8QgC2Ju9JMs8z', '1uDo9hrktB4bviW4tpakkAn-Ob1UBftO3', '1zMisF_2v9C-c2Con6Rrn6ssEeESr7VLC', '12Ol4Qg_wpYzBFK2Htecmz1mrL58k86Ah', '1qUt9jgC_FV--g5OKMmMDT3H-xjVvU88q', '1ChzALEvrR1jTSuMO1e7wmQgRXMlPGW1l', '12Py-HYCdbPcXaFDeprWZLi_mw4Be1b5-', '1ui9yYCleXa0-SfYxm3kkXmonwgF8kOMw', '1TPMFz49sJmGscj9Z0tDX-tfRReRLrg9a', '1YzLY0GrtvDuF7hmguLly9wmuellxLsrO', '1PDvCVIRsKIX47xHcNwQjnJLAJ_zpJam-', '1KykjTKBzO2jhdFvFe4EvfaQgHB29TQVL', '1ac_Mcao8PQQPv7St-qeoQZViL6H-3Tjs', '12AuKg68eqCkyhX6jNQQeL2j4OUFUBx1A', '1_TjcJoa2kEdOroJYnBuhdabNKqSs29MX', '1zN8GaR1vmoGtpiqcTfig9Oe0yQ7pKOpC', '1zGtidLITUsplZBGFO5ZMcA5s11smnNV0', '1PjECIKCyOMg_csxoG5FB9-gCfVN-datz', '1vgtwdAaCMQB2diq3oEHSgGf5cwclUNpC', '1GsBgaxgcOOr66R3cBSMg_ncaWjqwqbrL'}\n",
            "\t\tSide kick (20): {'1R5vPHDBpgVWntsSqSX0D_bU7JbJXW_5z', '1Z_POtCaoBF1vUPZ0IiaSWhNnLYzT-17s', '1yMIR7lzyd5TjgX6Q1CqVf_LzpYDnhgCk', '1K5rI74kkIDkKDZ-ck1Gh2jLrsPa-zNR-', '1n9V_rnj-nLp_b_McwuqseCnXpgjyTjJZ', '1Qp3RkQutpw19Z69gFglT1P8GdvuC2QI5', '1FCdiZbImRii8UqF8XZlUk71HLa0UDKql', '1F80jh1LAYyXFQ_qYzbWFr1H6ekicJRMD', '1iNZ7FAhWe5rP8h2hwMSIbFEUsXugbtge', '1ZkOOFifnx5qjgYK5_U9pkwhv3fuaWvJp', '1yWouxGkWnHflA3tYyGFwa-h4mtVhu-uV', '1A0EEakNexZDE8ZlDoh-etccmvC2Xq1GM', '1DHB7LwUh8iZ50x5ewtR-iSg6tAQlHxQQ', '1e6EOZbGaHtp_Kj_d00aZN9GY2hT-bPy7', '17nI6GdCyMEYsyKcQqtPPM3R2ZqMw9-Z9', '1p7y4JRLKDzu401K7nOFVZHoI8yMVIGJK', '1eZlAJGJfDi-twW5kRujyFChvMO7jO8io', '1yc2G-0TIthiU-8ytyrTxA7aVRMOeBOf_', '17nDIAMCUvuv_5xuU_0Yuf8urPb2TC39o', '1P7JJ1ITXptgVLim3CEXoBA_E1Zo2NQ2U'}\n",
            "\t\tKnife hand block (25): {'1HbTCgNNZw_-nTjp1bip-fj8pva_3jsFm', '11x0_9tMxGhXEfnl7_sBAI32jgY2XLjjy', '10mX7caOFb_JNy1KvH-FCRI_4j6YkzFIU', '1KHlYfjTqDurff0E97KG_oxz4EC7MxxqL', '1h9HLxEv-sUUwAs-ijyrwo53bYf9GuEnk', '1Bk-sxphWIEvLIlzKB6UtG06LmFRWPROQ', '1xTsvhhZU0gPJ2Zi9zwLKptPWj7D2FqnB', '1_NMERzbuNh9y21P8u3bCtETJ0LD-UQj9', '1h-hpLy7QHmYgzRTLOjlACZNlMDIZN2pT', '19hv08wQg8lVpHpXSvaP7oYZh6s7JiJqm', '1op8C9rAcq777WhIqUl7LVTfNGvT0Kzs6', '12W5WYce_zl_etddZ18BRKmxRfgTtSkOS', '1edJVgYRL3DEVWJRf8u5ij5iDW-d0jOkC', '1fKcUAT6fqKO573PsgOPgl9XNHzl27qY3', '1hJ1UItaGAmc7Ff8gdUtvEtSDeABXsQ3A', '1JQjB_4-ZlzOIgF3kCAeVGLFlLd5g-u4i', '1JlVAeeT2lHumvwxZSvM2ey5P-GbAjiEk', '1GqU2IEjYHmuPg-LAkDn71291_dNkmTHS', '1_mxtJwJwGJc-bUAUeG8ulaTbFqBCb5EM', '1jAitZqWcsIf82k3E87OoE4I2l-Dqkni-', '1GElzYc0y6dOL2qmeWT9qgvbyisUsjtu6', '13d9flfgmzO77RLiDUnRMCgjo9Tu2yevl', '19LV-Fj34cMG9qijaHYWMNpOPckOJuaIj', '1HheaYNcRINIqS4uZnRCidPopOQmOyRCb', '1yTkhpJDKFGleE7dYJ6n2pB7FXukNj0g5'}\n",
            "\t\tLow block (25): {'1Ix19yPsTSn-E26501cTwck6V_5GyZuxq', '1zFja7Z9sH8n7Dkl3AdyaX6zh3eimWsRa', '1Hui00oYs0lkdFDj1U97YRSyOGwrKUk9m', '1Ls29yOBTdeE4bLuEgXe0z86z0S2H9Bea', '141yLQ6YYpRGbLmMsNODi0ptw9iGlISqI', '1O_ylx0dL1lRPS3c-5Qqluupb69WZFx4U', '1y_-4B55hO0szFH0MPoM_lCsrkElxAefS', '1NYgUBXoaR8_rQraxWWa44zXm4IaOMYBv', '1iaqS65w2TY3Y4Nw1lj3JAta_iDOcgObB', '1QXip91VihvWyJ6Iqh40_9P8qUwTl0usN', '1Spfng7cGpNzHPYmqe3B8cFP2ZaCuXOKQ', '1AUhnYf5AZwoeh1rtGRpc_6pm7x3uNGTY', '1sx91MWvVKT1Z57HXmBYg8Gjzr4BbV_2C', '1gNKhmEV3KTxAu7nDoiYGxrw_LPH5_AWE', '117vXj_-OuQeFn3P39iopj_MVXnHw5m5_', '1mDGSazebyZgrPuBYSUe_wK4cFfQJN2iB', '1PYYltFMX6xsbHVH2nP_jbat3Nje3-A96', '1jUER_WI0Tchh8aFEikCQN4O2oqV7Tquj', '1qzQCcGOVEUaHY-b95GojcU-PHwITdq9L', '1N7-XPwCgfxYf8NXvacUqVCBzvxldDlk9', '1hFw2jej3AfgOv-zm7mLh2aR6JWihgHxL', '1StxC5myKh-mIHVjn3ABcWKRm4DInrvug', '1Uo9LpWXO3eYPDsN2Qj_Hq6oLXkAiNZAR', '1w1Lzu6sN2UxsorqaC_6-m_DGB3EdgO3B', '1P433xinP8cFKPMOiSqLkOMh71908ShgA'}\n",
            "\t\tPunch (middle-level) (25): {'10GTAdwxT1QusccsXJO91ptAnG7GY3lB6', '1ajn56ZI9T0nJb1vR0xsrCxOInvLr1KUH', '1f3EJNue2YbU-GfK0no9aAQ5WpdQ1aCQR', '1kBmZn7uOzV4c6YMaY6Nj2tlpYPYmg-hF', '1NgZV7ya9vuqXZNtr39557xd6OJBJXmev', '1VW-PfHGhVRZzXTuaFwQBxP55nw0fRDro', '1ZNpPGQBnmM6pum_TQ0A8L1UqcqNVLIpP', '1JzTSF33qb9pnc893S1xvZrcoctZPvRSc', '13qY2-vnE6qKsTL95PWk6Hqm_S4G128o3', '1KXY7dmQIy9mZEOaH4PXkry_cYEuu4Xkk', '1GnReVmouB4NZa92GX1yCHjdCEQgz5I2r', '1iKl161bKim1ku-Jkah8Pe1MKAYO4umqe', '1SfxPLDV2lA-Ww1F4Bw86g1YGhKFed7Bb', '1K39f5uD70bh3zNmT1ER5sYoWvA0qBtE0', '1niOUrekwahDM43D6Zs8IiUXHemsiUe8I', '1eKrMue9cK01BSDvQ_MwtFI9_VZuO0G5J', '13-JTL3RY8Sd9boNvk5eJL2I27wQcZqp-', '1Ex2fz-3cv4anwbA8cXnUdi8ZEqeX5OLs', '1sbpL8I4N0--Vt8TPFEFRzczu23FG4qbh', '1ewkh2xAJ8WRav9J1kbOZ-V_St-RAj1Ab', '1onTG4i0EpBqkFJdi7z0LUDwlildNpUy-', '1neOHwoQv0nzP50W_FRHZwifw-e_tpKFi', '1QpQ6zaWK0xVC3ihqxoPaCD1nTJJj2hyv', '1h-f9wMA3liUsJYHoLwxrMf5znhyqF_Sn', '1P_PxoBV5eAz37DUqAh24GvPauae75l_z'}\n",
            "\t\tHigh punch (face-level) (26): {'1Jc33L3q3Xbxl4e4nWlHCEuJXQqosGf2k', '1k-uIGBrr259fz2eVrTppIiimzRZi8_NO', '1LVQHKFrJF5zGGKgs9rfOGtlQtHThywB4', '1Fwg_YSRCM23V0ucJBW7KVWH7Kuw811DZ', '15U5zjfbTt-k6mJa3tR162rqmLKhShseT', '1ZzFkdeIBDZkOwFsZEeRYDydgn9meKxce', '1uySz2ZFGtpspE8C7-WtyZ53XtybC9qAE', '12wK7Qp5mCk5Pd-PAenvLSKoiOZB7Bfjq', '1kIAL-lEsxGRttaP9UlGlZVPF1izKeBLb', '1wqMm1zRaBKt01-0r4Wnp0iF1mM3P_xzc', '1U2tBAoN0J2sWAarjX5azfEsvvNNG8L9x', '1NCNK4W5gXqIiBBEhZXRo-Y_CThnHrafA', '1VyAtyvZHLqAbhuzIfBc9vSpAiLK0nY9M', '1J_oDVNudERfal2NO-lP3dzT-ED_OEujk', '1UNKmo6aYheXQ_Sh1f8njTo_zNSUXQqpy', '1F8ksWIrYstPbdxNkPp6wsUU21mMnGlpf', '1qvRp87_w95QicWWOyaJ8fS86jN5R_Q6L', '15ugFj99sesO_HIlUxW4Q6XaY2C-v5hlM', '1hK7mIbIS0JP1Uj6YtU2C8_hXVGYgUYMK', '1WhClSjkxssyIA782buswMDIPWv43ADl6', '1OuLltPQAzIrRnxOn9n7TCyzXeBJqhZ1-', '1lVI6vQZaY-8ubW_q2530Kn-m_qOWgnWo', '1_B9uS07O9UpuTgb0JgH__1J81HvjGayB', '1Rn6XNC46lvJ84_KEKChR6B3NXIShwTq-', '1w_I_C_HEXqE1qzCE4Aq4BirX-Tc-zd__', '1e3nwMHMZcYFAxPZKrUpVaSdYo8N2d6P7'}\n",
            "\t\tFront kick (27): {'1XJcpXpLtLAy5tSA9ok0eWMDxgyDCd4xX', '13xJ8TS5DOSKIFxfODPFRTrOtMkR5Bi54', '1D_nTREEoc4DhHsie1SVCCGHeHZ8o9B_y', '1LTiZbp4c3h4c6w2sRC3SUvraFtM3iBiH', '125yiJWR53T72_o7IFOiJmTZSALWTOMNc', '1SpggIswW3x3Tj0kK2rN682nEHMP772jo', '14gU_GWtNRVJ_8WLf4v9HqnwK_vUTujs9', '1HbmvVowL-ibiPUYyUtZhhwDEm_gDld0Q', '15rh8FiXkARYPewTpoiUotUjJXJe1EN16', '1x-kX4Vbolfv-3LqypvQWN-AXmMbEEe-C', '1nH-5elARaISayWmUz3bX5F7aYhKnAsqm', '1qOCR3ZTA5UqTYDvUTq0eJaGntcLbjTLZ', '1YXiFbt6L_lKLIRvsJc7gK4mLIp9eJrB9', '1GYUHX9sngXEchWrNi61AZIPyv_gWXuGj', '1baenFZdpI85aosooYfn14ypHY1bEoJW1', '14cSQQesm829WjJUj4VokORhiBj7UVEF2', '1qPcMr7CGcXX3GMwJGz2Qio-w2thK7xQO', '1nScExCSY8tHbAxLefo6XJZ-HE0SPAskC', '1vWIxWm61vsDYgq9vPPeBPzLdmzw43Pvt', '1BMUosp7nceC0VmZ_5dQKBfJbcxHk4A00', '1zczaHO3XYP1ULpICuZn5uc6sKnjZcgNn', '1vhE-f1XhroiuQWNEvRwamTK5_T3Nn4WE', '14QnWmKmPOUcIUZx4qMieMVYNQclVg5P_', '1gVvhvwO7Na8DlLf04CO2NMcPtVbGML6Q', '1EU5A5zpr7AzHLCoOuS2rKsRHDmV140Sr', '1YCV4uf6gpIa_QDRld2_A1Iw02FcudU5i', '1tNmdA0jIvqoPiyrHhGZEJ-k6D_s2ryS3'}\n",
            "Diagonal\n",
            "\tLeft\n",
            "\t\tHigh block (26): {'1IIA2Iqpa3xKDhgRfmJBO4_8NPa3uD5Wa', '12GrCfeV-0Vltdpn0KedMDfLSSt4BhdPi', '1hyabGvBpZMZFWusByPYjpYtg4WyyAkZS', '1Xgz38xRw9sGoLJOiPWU4mil4d7Qqfzy1', '1rUBNj2418lsDQvda0W8z34Va6IU5w5XA', '1-DuZ6F8wXd37xwVAh6YoM0jKAg6Oz9EL', '1gl6WkI0Q2pD_kVsyt4JfN7xf3Bd4lPNN', '1bh1M_GmNcfrwd1s9catE9nyzFkjYAUBr', '1xaXnbMND1HxL09aMIURyAeMOx9uB0ZuW', '1f1ErhUUxXpvXwIjXbbcW7QSfr_sdEqNq', '18z1JHyQ7UpRXRF9XKsEvUEqDqEQkGLkw', '18mwQKoidLYKgzkkUEVh9O-u-n-8gf5eG', '1Pxaksq02fIB3aMbSKaYnIhdBK7JyV54I', '1E2StfiV7ENtWR2Ow8rfdUZVfqb4q1Evv', '1LlKFsW1ju8AA89stgFxRC9J2fRRmIXVl', '1-L6MEP3N2UUOOHfz8UKSxTYmhwIDzrMz', '12ObqNRCqUNhVfD1tq0E8I6TtrtlXT-zb', '1UE7EclKdI6q9dxZOp4uVt3NSPKLOxLsg', '1uTFZy8t1eErbA7wIOgVH4WkOOOqorcKS', '1QpErv1qMA05luAwmMiiYB4dwej-yn8fn', '1LpzuaqXZiMLW10rvTYWA2KhGXiE_ayj3', '1-yo-5SzX2jK40pfuSmZWYk0eWz-sj-c5', '1twTtnGXgNuuIFbpHTbQCWgcGRSms2Epg', '1dzAncu0Zt2DsEvEqnSos2_ilRgTNbdUX', '1InxHX6RA4hQ6bJ91GdtE72zNYEyKGtsH', '1JS0EMeY_uXOz3FKV54tCnb3v8Pcc03sa'}\n",
            "\t\tMiddle block (in-to-out) (25): {'1Ks2GS-zAxTm2N9TFaiyFXmYBh_BpUPFX', '1NZpmdqCLcSSb9I48jSVds9SQTcTn9ZRD', '1Zn2FUYKM9hf72EcGmXoTlCI9c8WP_NB7', '1dsQ5sreMl_ZahkthlM_KYFSIj8574VpE', '142vSHXh0Oxxy8JviT4w1lp9zD5NLUj5f', '1GwOgKXuGljvh4GrBHN3NvrVpFx3kslED', '1MSqeJbqgmYpOJ4MoyUI0TF5g9f_Dn9gi', '10eMtEjZaqmcxzUK60VAOBSwj0S80-JF-', '1afyz_LatxFlAunYihkV4KldybyNLYrBu', '1BwcMb_LrufWj6Tq6mih7052zGrWbpzZI', '1qekTb__HutjbT5YlhL83vU0FzCRNr5kh', '1wdoSJeOwTHtZ7xBC1-6sydQTNcduhRvM', '12_xmunZQBY3pxzhd8pEc1m1gNdYhfodl', '158R7Bu24URGvNHWEZpVY8m8dP9jgXZRP', '19mDQRDpNDjzg53j-7IsdbgAqTTyyQ5E9', '1AmB5q3vAYIpisqhNsR-mXgsat6B7wr-q', '1_1wcpWLjKDIz3Ii8IGIs05JctLfJOKeS', '1MHpBUPeGe2Tux_Lvl_6LQ5M8P-7Wi7Gb', '1kIcLNauARkohf3jYfX7PvyjPvpnwtlus', '1GzoPeXQS3EO-N6AX38NZlX8d1dWZnka0', '1Lw5NpBhX53CWGHBGKT5qZvj7DY-PPd1n', '1EZabD0AdpfmxjA5Gk67kIpzt-6sm0HCz', '19Yuu5ww3M0jw8mTmyi6gmNKJeNZKVLmc', '15LnIyVLZcToXstSzFu-AYKvG2unHrgkQ', '1DJptViJtmia69_ZUPepWBb7bZ10BUzIz'}\n",
            "\t\tMiddle block (out-to-in) (25): {'1MDtKUc4fu18a2cxaZ8ibC2Chyc5T8eiR', '1foOhiV8M0vrRylSsBY9V5DgsSHdUzdVd', '1C9pcgmEHf_AXmRFnG_JBshIAoKjseg7W', '1EHdcBDf-KIVpPejyYIsvkokzRSvQat0C', '1uX1Ssse2NY1pZrW_Ns4NyVpa87fsqkxN', '1Z0suoYSBRPCnzskZFT_rMHhJBwp0u4HA', '1VU0nN3s68pGvp5AOKU9sSNfyFEQ-J5sD', '1n4ARikqAkbzUFOIrpoYlRSGQW5fHoGtz', '1cTRdOktiUGV9SiOGzqrjC6L_OOjwUydp', '1eUy2nPszC0kOQIFzSVhS3gWmceOc7wkz', '1cTkU5_0ZkRhq7bAjXhayTL8oC49ceS3I', '1TQvtaMnNclHgS_BqrZM6DGulLICCDkNN', '1CqIDrib4L5Y3L72Tty99TiBMdkep97rK', '1rKFZcOGzmt40StcY3aIkxHbHIHroI-eq', '1ZNm-7WbjjoUEZHofulVRz-QMSHtzD0OI', '1PsDVdwKdfk25krr3ph3FuBFOdrGcD5h8', '1drLC_ShG2rQu-KsuY-rNyVmTZf-Jc2iK', '1T1DqrY0OhDM1DmL8MOhGUd-QcnfWPDf3', '1BHxvLZx0LJp857RZTW7IBo1Tu2AmVlHI', '1QCFtr4IEdvqU7_HHJgHLM4nYAz1HkOLq', '1RFBe27HaDEXCps5tQL67CqTWCdknOuZ4', '10R1RiNr132SVkROtNBZXcWOMG-0I-oUP', '1rTsm33_akhRdr1_eYhbMddsoJLhZUAI1', '1Uyw34ud04WiqomaJkUlIs7Fy9u8Gu5kp', '1QfmjsMTJxMEI2Ab6APN-t09OwUo9kKuB'}\n",
            "\t\tKnife hand block (25): {'1ab1Oek7Z0GKLymblU5z6ItRKapSGz93u', '1SMjV87pTWvfJwwTZAulXJnXicW8lq-mE', '1RaNkN0yD9331DjH_2su8dsx0SlJ3v5wR', '1cly1f-CAWnACDzy2OZstcjQ5LVh3P7o1', '1ivtn_aquOFJTwniSyazxyIrXcc_jAhkO', '1y1ujaHyUmnMqLPCJbWi5fuzkjRldBm0X', '1dEOsjXM9Iin2iumvKEt7MYX8W2bGMu__', '1pMoa5pWWEX8zvRIJ3kUCb6d85gZn6g9T', '1UmF15N8M7q8Ur4i8qTZKkhHNAXBdqrxG', '1WYQ_jxsBYAnuENK3Akf6AOGVtBi0x1eD', '11PEC5nR89pRIw1znC4-QTD3qY6E2C8GU', '1Bd1gHF4nCcQ5LvGb0MIvq9l_rWQkTOM9', '1r6VgUJUr4oWbAj-qteI6gJkm9hTDdQ1w', '1O1lJqNk8fv3IX3oCuhIhRhCN8aywMq_-', '19Yq1Na9H-YTjLzSI8DV-nbLp-HJRaFGd', '1gB0kVMo9jdnSBxV5jITJ_kC59Zn706ku', '1F_UedHAABjO6lahecYRx29rericUoFi_', '1pGCm8BF67pQKhXCZ8EOqwheaHdhTf7bp', '128xIBDMRWvIDUFAgPGs6SzlnymnlwKyR', '1ZX1KniJ73PFL6U-EoAcspisecf_ljyKE', '112SgASQyMZfInsYMtmwU2tMogFzpKV6h', '1T2djtgWw9V4L00FR_GKiOnVMpCPT_EaU', '1SdbwNx5ZgXYYfbuGRJCX1pWkml0qWzXx', '1BLM8BKyPq0vMMTVYyvNbWdykWmZQy8iS', '1KLZVDKmoQ3H4v6C8NYccqQukH9jcgI2b'}\n",
            "\t\tLow block (25): {'1DkodgzMRQ5gdKmzrB2FuMhPGYLu-5YKJ', '1rh96RCJmFFrMiW51FdrkpOJ3jCeHAVyL', '13IiSDclAJIpFmtUMDvaSngG2U3Tz2XAY', '1r2-CgI2iy37pt6ZadtURynXFj--wOu3P', '1vEYZ3WZa3EWNzinsCLovHuWPsv2xczBP', '1Owv8lHlTeZcT-N5D4yiN87szRWCQQgZf', '1-aPC8uOn1ZSdTZY9DDixUNR1q7GEjeoW', '1-aCNvnm8UEs_VVbiQiEpodoyrK3YsI_j', '1Y-ZLiVwkxe1uDIwzEwwj1KdfxUNTk2sP', '1IGbVHuuRW9h_udaLRhhzjrUTmkROVup0', '1RCwvXkf0ArslkCQpO9b1J9LaqPU08aJ_', '1qKaJJ_-ehHHd_PHiaPwlNyhmsQv1wkhy', '14bjXcVa1zoKXhWwnltO8V9En6NbKgqsC', '1wHUBSrInElW6LJsGUuB6pQEscsWV72RF', '1LObiTfK0oIo8jT34rry2_wGVC0F8KqiT', '1owdrcisVBy8GB83kVNxfqC5tMeWoAhc5', '1qq8TYaK3e1ntOjEusnnt2s11u-E-DvtX', '17IoY7QjThXZVMa3VaJMBdqB7Cn4C1hCW', '14nYW9hdA4p8BJTJB39q4Hqy-W55810pG', '1Iv8OvJvZzAAqp20SvgTJRRc788Unp3ID', '1NGRtqP_Hv6NFsF1yX3D99jyMOKL5ztIc', '1gauqBZNisn-j-aSL90banYWyhroXxkIy', '1b4U0Ixo3bgXSsM_IMiikZKKBjkPTbvR1', '1JnRQt-ZT_QdUP2LHIsEHCyfhx20E0Zff', '1Pb_GCNFweoOxFZthRUHjAr7idSrpuyMo'}\n",
            "\t\tPunch (middle-level) (25): {'1x0-yoQJ9ZUTzDDwUg9_j-ZS4qilPkvlw', '19d7MulIRZ5oxWgTBsMjEjgKoEbeI9MbT', '1mjbyU9nQzgxcZ-ZQfr22-xGbJQHnGVce', '1n0JIzIb3lmzhDgQwqfYDZAIuavMA3OsZ', '1_ryrL7LqOOnvOi4SRPA3SueTLsy5Jlxc', '1Lgbk42sgB92-rGiiIb-681DxSmPWmynW', '1Pp7Wtoiq6B2ysUvSsDsuxTKlbQ4uELsN', '1sDS7pu91GyHyCnt89B-GRghT4_TXc_eP', '1LWMdytkp0UnAmA0Ah5bknV3Btj2SCYgc', '1S_CIgQDX5W19NnSmwwKxEO5IDrLBC0Ej', '1YlwD8DlIgmaD_jao6eF1i7W5ibrltFUa', '1Mr_K7JylmgGBnCRPKY6Ih9LjJx-k3bKd', '1xA2qDDVGeQqsqSbsdDK3cpHK6TXA2ohF', '1VGVIaXqPB99g4AK40D6wByxnhCUeQkLa', '1YdQVVJX0a8p0zztG75UIOL57XzGj_FT6', '1xluFmqACkBGslfVVbJVmEBg1hmGNXWKh', '15v786I7r41RPMELHOMWq_IvcUixIFWwV', '1_tU431FUdE6ojZxbQLU5Mqj-7PfC_xjA', '1_AEZ6Lf4eGP-97kaWWr7akXMqjjp78KP', '1RWCctPOfCLuB6x_0PEGhgDICRhgsaKdC', '1Ql_uNey0xHnOi59wco3YUMBCaDBMUsfD', '1blsQN-3JVL-6sKbfvU4B_i75CrFLiEUF', '1lAKJU9axvDMPDhXI-Gqxhxh8E-WXptzk', '149YU6neRajXtEWZ2lAWY1OBvJa5Xg09I', '1yIIc1wbSf83wVuKNlBwGqmfG5cbj91O1'}\n",
            "\t\tHigh punch (face-level) (23): {'1CaL-WWr5SSb8nSR_4fBBFLcE74rqZAxL', '1D6ymk1klSd6NuiJdlG0oBGFVJfmvcODN', '1HzXy7DNPawIy4JI59fCrIq727zJeFWUC', '1lx0B4ZPwUDb2sk4mioZ7WvSUKg7BeSLk', '1aXCctOy-Ee2tdoyAozKc26EN9-tDhO6C', '1mNwKu-g9GKNS3nPJTDTf4Ze_i0DX9Y8J', '1r3Wgr4ytXBmjLwVPYWc_ysYR7yzh2MZP', '1irmlR0p6Q9kj2DtbPLyO4T1247GDHK15', '1uwIhkLbAzNMyEheEuPwUaIjkXIRDu8HE', '1Vt9Bq-pWvZfbmjq4GlO2rSe9ZO6OdT1V', '14D3ijYT9gKiKxKgJavjDDfRoVYqmKfdT', '1TJhGg6JSvdqrl-C7N_1EvoH4JPuyesu7', '1eC4OHDZ0AiOth58Hg55nkgq-cWh6jWr7', '1RyiLXksL1URzAlmXRT7duZBvTATuZr25', '1whP1ekDr-41ysRHoarDP5uU7Lqc-dbxH', '1eJARmQ7qfrcu26NL7svl4bXDBPH9CD-r', '176J1aHmUcHYH0a1SjKJyRRHO-w4CA2yb', '1gapmEJ1XgjaSMYVoh73rGYrPfiQSGyUv', '12OkJziqfcFbyHrUNO8r7OuUz1Y5GkEGy', '1gfrsEqxrrxONkFWmboGl2Th_9P15xQea', '1oBFJbNvuQ9LEcUnCrWRnRTecU5-WBBql', '1KU30eu9O0T775r5KMNAgsEiIzT-Ho1Cl', '13-bTP1sVAkUDsjrIlWKW1eflgcOnz1mY'}\n",
            "\t\tFront kick (25): {'1Z99Rr9mXSEsc5RKxkpdg8PcXsiQ-CmiG', '1o7IxX8ELofwYFmuvoQav0EQL_ie9njVG', '1V-WSEyM1_gdrXUzOkVIx9JnOlKu4apP9', '1WJOG1xkLFJPydGURH1i6gXoLaFawJKXV', '10AYPTUg9P8kuqza5nwmjqMISgOFf8duK', '1g4qZLR7mQ6T8R-A8rhSAOFgbCuFTRGwD', '1KTin7NzHFu3f95vkp7vrLdUGkG4e1dpi', '1Yn0QEflY1fgI_GkKuQgLH1weDxAQ2pmy', '1qktqEAoQTxS6Knfw0R3tz4uAwPfJ12Hf', '13_By39iQWxmU8hJIWNZTKdKkg3UgnjMu', '1zFwQeN5o9rDZpQTiQqlo9PCZALTg2FMF', '1dEtnZy7guQShHv-fo0L4bxZFPGVwZ5w6', '1dIwYY7E-OIyNFOjBear26x1QW4jNLL2R', '14cReCXrYJJ_zwJe9bpCtqB1MdjYyKDlA', '1CmF38xyxm2cd1FnPIdgTqJQmAwCXhtlE', '1Iq4FfHZRVYdciBiuljSZJvNclKYLGBGF', '1-SUpG9qBdz6E7R16t2swDgpfNiZeSeLl', '1ivVp5XXkGIYpeloyc6fCq4GBp5vTZ7ym', '19AdMrob8aRwtey74i2lSk71dPgBP4ThT', '1jP605a8KZs4iIVA6Cqs_EgRI6u6XWGE7', '1mE80sU6bywQjyG6vNCetWdAxM13YEBU8', '1zTu6WwWQTTOQgjRDAHZLxOXSfX_ZWmC6', '1pBF69p6SSjdwTdWjUzBI5DQsrupIIzaU', '1FcQSHtBWJALPIla4kaedFLQXbiEm0xRT', '1EnJU-ckC4IP7sQE8wQAp7eFfFHshD2pC'}\n",
            "\tRight\n",
            "\t\tHigh block (25): {'1yOYIgOiZigvfMft6rnbZ32T6au9wKqf0', '1frPHsatn3QxBDN8XTMeHpzEVFpItufah', '1S9Svj5BMZGL8OSlzu6hZBux-X-Tb3iHX', '1HzPdTGHYNPBhpU0KwLN4oIsIt8hRQyy1', '1PT7HS5P9DMqprYuiRwanZSpWjuTr2Tnx', '14UMuuGUv1Utl5PQJrNcNzRxdUdIr445e', '1-WtDSQoXTn1iCld7TJdSqp_R6K0HM8om', '15I5m9swc8zkTcc8yGYZ4rg4NU5kQPWQX', '1g33x-icff3qvhANXY_iFEdhRn1PSwQuM', '1bMV_IyPsp_-a1g_SIPzAbZ21mrVdGLWO', '19iP2_kGMr19i0a4eq5RpL0XzkDzEAlwc', '191VdQwddyuu1DsVW2euMECQK1XtK4oz2', '1wX7yBuzOX4vUAcdHmg0CVh9j-Q1rWdN0', '1bgePLu01fL7ANTgwAirnGF-TAx2oN9mM', '1gaG45uullEP7y_nMDMdZwaYEXylXjD-K', '1Ip6prsCfhL84nyEkyGDRdh_VzDqOiyZv', '17_Hyip5gYskb6l9pX9lWNl-TqOSuk7iM', '16i13IUNyi64fbeHB37v3nHmVKqNcdXjc', '1O_IIkGO98I48goF3KKKnIPH3xGW4lC2I', '1DGOry6fTsqkBTnVyJu3n9G_xsZl12-3m', '1IXxIPJUt09GRgISGk-TYF9HP7KNvFEoG', '1UWzCEVa8WLRi5UGBC9_IksPhH69N0xWN', '1oNA_sEVC5DAXMkC9iJB8xKL-UKWu3gH9', '1DZDPbJmQDun2SuvKmhFrZ0wyzmHtfqHA', '1OU6xgQLwUOWn1-d0Knx3HehiRiKW3GKW'}\n",
            "\t\tMiddle block (in-to-out) (25): {'1oV8Wm7lzjatJfi3Ox8gYSGpU2nSQ_2ne', '1hdkWd3SJTYdpCqRbheiuLN1pvCnP2D_1', '1HUUAprJkmPI7DEXee6qnw35Nb74ECyC-', '1c7mfI9mLTlboaml5fqRyAREZBkd-RLT6', '1QnYUrSvOOOi2WjB8pTBWIdRz4fhXsm2u', '1jcpPP6aPJcHWc_fs7MLgdcdkwIBLivk_', '1mHq9NYoTRKLwcFo6UQ5aZXBH3bsZNc7S', '1g0pJ9jG_WOwtm3u228GBhky4sslwjm_A', '1t2GYshgNlYUw2IPFY-3aO2Y_YUDbAyQ0', '1MYvIdWI1-mfLJMLXrXliEs-5Ur8dyM6A', '1OgTpECa2RSZLlkRQWuiGUomRfUSkJLsb', '1HhInxNL4uIwUo9FV0xoCqZgfTPimeLbo', '10XWXB1SkvLeb-5ABgYi63BNzjW2wWT1P', '1LvY3ScDA4oQ2fyFtzz2f_6QaGcDFbtQP', '1WDo1Ev7yrTkaZSnaNdcGOg3AyCXCNUA7', '1sutt3BCGz_GgqrKgX7rvt200lkxNnKVl', '1F5hr37-Sd89DV7xoH1LL53ezgd9yovjP', '1tDSzKjZMRoZLdf4Nn1tEfU6HzgxIpRh_', '1oepcJNo4oa5JpUW24nPjYVvLObXWKw-w', '1WxvG90QKp1SXGhn81-WKIwKGIM9XNxLw', '1nsuCB2vdQmwAIyg59nwIDgx7bMwc37BW', '1UofD1lSz52zb5tSoCNVHTjQeZsLA3Vdz', '1X31ELiFfgbjtKBC_-FM7Ly84OxbiiExr', '1GBPoM9wjp5X9bdd9c8fv72ByJ5aF2_Pv', '1XoPUZql_qo4pf0-my6t74O2np1ARvPtb'}\n",
            "\t\tMiddle block (out-to-in) (26): {'1CQQUFQ4KBPF-xBPcDzu-6aDwC6Akf5Ct', '14Jy6cjMcMPz7MTUh1QWIO0kFMS86OXq0', '1NmxNMbvBjMTS2ou3vWAcZGFUO21nz1z4', '13lYgTFlewWOoksJ_bXaS3zrH88hqAAOV', '1NEwr7nztSQUzsXNLcYBpmHWJVuqBy5vd', '1XzfUEV0HMCFL1S0yba00lc6j5b3iOTvV', '1lu-0QrWesNZUF0RZGloqXy50IxUxY43y', '1TkZrpZpIeRx4LRxCQuKZ_cDO4Ftc0sx3', '117xIqL_SZj9cfukbY9ILGp5HM2tZRAmI', '1Bm28O4v_EgnEGi9-xHN5ApZwkdPf0erN', '1F3C3EPUiSDP2rZTl3yl4phYzq1uuT9K2', '1wcv2JGEn3wpJvJGGKISB687VbLgPRC02', '1CC_UgC4T9FP73U2P_ltHHv5c_9j0a4Dp', '1UD_dtpqascShQ69aC6u05eU2477w3csP', '1wetdhWXPACne3y9IKmsxgKmgYXmvLzBo', '17vpr2Qc9NUCgLAYPyr09gKkk0kjK7Jkf', '1Rmlj2P-tUCxrqUVkL40PUf_7mA_7GuuA', '1sLw-kcLXzzEWDMutTqEqIesVECB-mPbI', '15pQuiIOjD2jFvQCPEZSv7kBbglE5V6dT', '1FOL9URf52rSJIaQZ-R7i4vIUj5xiFuk-', '1XS0A2VdKhphInQsOFZPuwNmhPhMRu9ZA', '1Uj-NgMQLkuwtSnWWpggYHLvXSUD7UwQv', '1i6AwOJlpzi0yeR9-Hv9Ka5qlMN5HDjuw', '192rAXWTA56BdjRBmOPfzWcLnrCoCkjt8', '1NhBP19l0n8zWSzQ-ybBWtsG5G0WQ7n7X', '1Fi39nC8MQnYSjjrZaKanflUm3BH3EJGH'}\n",
            "\t\tKnife hand block (25): {'1XFvL9149V74TzIVdd1-4S77FZdy0Q4X5', '1FifARiQ7vSE0JK61C2WrE7AmKtVhCefr', '1PCaL70nIlTkIWHzn55GbQqFQi5Vr-8s0', '1ISJmJAbSUSGR3M9xwAf4mrBEZ3qvdt1N', '1yjwqSNeyKNH-hpyc6lUZD0wstBC_LWyW', '1eBCl11cGqqgeSxaiQ48XSrUGXoRdjiCn', '1KcrlkSP82Y62JjbXgKc2m_VGzkUKQAAe', '1cYV7pdlsbwls13qxO1M9XBbtHxK5V2H6', '1yuLuC9pftElWMhtNLJ31Zz7MR9T98icb', '19PKXllHhHBvaaZtlT1RfIyj2WXmFrP8L', '1rLsiv7itNfW6xCuuJaDYfvrY0Era0_7v', '1kbUrGu1URzFrn3OjjWRnVKKnQma9F98j', '1YpQnjjghOAdt_waDAYoo1kgUYJCs3m-6', '1N-n66PU7se3HVTKX4PzGNQEzdM7Wh9Yl', '1dDoj854kr6UqOTBGFUwKqPyjOAUXWdz1', '10PHEi_OcEg83V2srYWHYBqTz4V6tE5LE', '1PUmwd-Ev6alximGq7FK8jVq8qAXwYQhF', '17N3lnK2kJF6GbvlBVQMOdhlEDgKM5Gln', '1nXeObCP-M5-ejynLuTYA3KgoskMmUWjB', '1XC5TpS0YX_6EKo1l5S-fzp8tIydsY474', '1enF1desb7T17nJAp5lfQe65nahRYw8hN', '1uzttmX8SbnEsslxV_o15VtZfZjbGCSF1', '1lgD4ZDb3D_LOHfcXZ0EQv657IZe6LJFp', '1bxO_sl_UDL5mS4epiaJSDGkKSSmKMr1B', '1EMnhTRuWP25Sjj0vrkJaOGenScAvrlEk'}\n",
            "\t\tLow block (25): {'1Drg6htsrz97gynNvg_FKYadXlwhiAAT3', '1LhldTsY6LIdCFX9QB9Gb2OgC23JtEJni', '1m9hEyNSKlpDC_GPqU5auZoubfnMZdg2d', '1nJd92XiYOCgRiNZE2NyavApw8urM93gI', '1XDaMMyazTPpPwMVVLM5KnrjTOxylydFP', '1b6pn3OwtSD7JqIbCXNRBOZLaqI5Dbkqc', '1fDtrUqimHGm8UHqxYIbm2Qz1zQOrhQlu', '1DxMaWFh2ZcLF8L8YiRuiLSJEBNaWZdyv', '1Ez6CQsv1NEw1VF7avPPw14LsRjeEBZe4', '18dWm3PTOdSDdmXiKEpUJ2OvrC_yHv78J', '1jvLcABFe5aCnrdAfNFORnxMBbqcS81Tt', '1PWs32wzcIcD5pmYbjzQAtEWZW_pEzQmK', '16B4n_CP9bSiUURW1awZ6LlOW6boVLC2H', '1JEtOTkbhz2uuNfXDOpHKpb3rBoFdhYuh', '1VehHVDJZM9mqarGbfeBaGcj4NpZmIUSC', '1OC52qlF2iYjxt55U_vMX8PDiI8Iwf0JK', '1r1RCPBs4TbEBo0bZwR6d7qiozdVJ_O9X', '1Jid_0ZKo4jjcQHxug-sfNoWqWvYbbsu6', '1lZpbcGAT00shPviP_7oKuIw3qkYJIvy-', '1FU2V79KoSOvJoA-p1g_lb0NB1Y5Sf1b8', '1RpJdDaUOSsWhiKr8-lcM0_qsYwaArDix', '15BmyZpoJ5HuKGQj9k6-6Fc2rbiHleFPt', '1FOIgey92gZWi11R94zjfAysueMoD55SU', '1Z2RpTFjeNDMnn8BbpWoL5pD7EQMjQSc7', '1TKMhoXBfAf8v72gWEzPec8Y8gL9t271a'}\n",
            "\t\tPunch (middle-level) (25): {'15heSATmnm8vU-HyYFVAXBmMiKxvm0Ums', '16SF5LGIvQnwmw6NPDBF4OllUK17MBy9I', '1DU--sJMK1oRxWCnXz8CTkECt6tcHo5bR', '1wDTGrNi6W6oFby6YN0Op7Bc8rt0wR0ip', '1uXLnRUHFgE-okHSK58RrzetNe7f1b-Kw', '1JcZnYQR1cAKNM5bdblmGdw148PPqrq7B', '1H9bxtyK5wpaAdfs5BtDxJmQ1CWRawUOk', '1IkzlpT5DJbJZSw4V7eSPMHZKl5EMMrCK', '1UqMq3k7FQ3gHdUQezSi3EKZbTJgqC1X_', '1QPyd9bFRKyIWJ3KztqIEDgb54xDXpi-s', '1XMGJ5BDmQzR40vkXubxwHZXg19UsGrBC', '1IIUEQyztRhkJxBWgiBDGWqNbSXx4LOxI', '1EQTmxIrSL7dPlI1XgXAnWlfVgUeovBR4', '1paSmT8Tkwc0A9BINyQ3Xxxut6aAa9hsR', '1R_75O2jmGE55DFO4tlzqNzPwPfJ0AZpl', '1bs5SoS1xT-Qy9hBMNNtSfcc4ZbeKV-r4', '1SDpvclt0UhwmUNEumxFIuzRZoHrPQl0s', '1AzeuVxEEsOrBw4B1nukzGHLOpANZJgiO', '16g3_1udDmVnKghYNc6My0c2xcAk-HUCN', '1B46d9plefDoF9cclxwayiu0qGezPZEeN', '1FDuYoBnoAwu4nNH8lnRV8WSyTk0noDth', '1mVGZJ1KlP2qWiT-6b9wZVi1VDZe0EaVt', '15vNZ6M62diApBmT_2oWJgww1ENcH43Y2', '1XZO5Xz9mIzI_aX_omNrsAyIg8LdeZ_rl', '1bdVoJpsFRc6KuyFG77m3zVRzQy1rpK_M'}\n",
            "\t\tHigh punch (face-level) (28): {'1F7KvEL_aFRKDWDd1LOtlRaArK0O_QOjV', '1xFNLiO-0jjpB7-9a5SZKcM-J2FGDUBQC', '1hw2zlIXMh_xz2TcNkogc5b_NVeBWuYjx', '1RBfeoAJ_RXIrAEJq518_C7lMe9HSrs_8', '1LQTe5qAHjXlpikcD7Ds7IU0u_u3pqF01', '1NPqiAFcoDujsCp_YKL5hRO78Mok0dBXi', '109HyCqCZifUMT9NXWLI8hz6wSCDcr_k2', '1N4E0aVBqcE1hNvOIHPVgytHE5Xr62JJU', '1zXWgnXjCadRv3uwygP_U4bZ12WNOEYOa', '1zVIdTFjmVjbNC_jWoLP3uaeSZVv6CsHd', '1F41NnPVF1SieAut1ePbydfcN9t-fuVnF', '1yGSmexEfovj8v86WgV6goUvS_xoe2qj4', '1C9n8zYeqe4ABLFxLnVZqZBIUAeI9aMgE', '1t4Gt5YAl-AZ4vOSJFWmiWcA8zrcZsjhF', '1tBfmxkJYc6SrKWJi_xXnNxO9W97UmRmR', '1tiSKEJeYCFe_XWdd00sNGZcFBALU3qhY', '1tmVI80EK0BjUbpLg5ES1_fMpOsH2u9lB', '1QRghlvBih_BeeCQG-OcEnbVmwyfXjp7u', '1Nuxks_rOpATdequnTp7pu14baRQWbX15', '1iBh5eSwiqO22j29oVuzpDWnzN3dU4c0T', '1Gi1B04wUhuIOvmpwjEHWIPBq8q-EIi1K', '1zis1m8NMyfEBiekDCiCeUxQ2XZOpp8Xh', '1SafppZgmmDEedxP3TqqE-3P_t1fls_cR', '1svJfxp6OpT3MMnYS4gtJ4Od8TV6tHQDA', '12uZyeCkXEUqBoygXynikWfsrLB9jUzNq', '1zo6lDR3TdOhPWqzU1wqG_HM2-aFD0EBx', '11k9te2E36UyhluUBMEliJFjj0RD4vJAR', '16Ul0lQRFtVm9xD3gzF2V1J0nIcFe5oN8'}\n",
            "\t\tFront kick (23): {'16-TYOp1167jtj1_AGhl22ZjShLlPoNfg', '1lmSKc10MnHRItorygvwMlQXqo9Zchq7V', '1SvGuVLHIlVGv1Xj_8OFUAAQRt1gAU73S', '1dIDrNdfXTz0g-Nuh6c3iCSGsKgsi2BjE', '1IlY9xEYDd5fGoVQzBZbv-R8ecvfXibA4', '1EedFO0k06nrF6HpLWYb76mvKSCjU7EbZ', '1ueKE2ogNR8z8k6wilwPu6H--tyJMz2O3', '1Lf5menSfmjFbXCxWEGrOmUDPL0aTLvm6', '1R0vzDjzSAw6HGUAowd9YUi_YKolCZFai', '1FHqtyRXKN-zzZaZ6w00bMOjr4gX4s7_J', '1kGYG6iepjIMjJKaFgPulBi0IXsX470B9', '1XVnh792HkTdV1_Uyiw2j-pREl7M1XeIm', '1oCBctZRdW_LJ8G6Evf918DaUzWSxiBwt', '1R1mj_hB8bCx9xJBdjGUGLJOmyzqj_1bI', '1YRij2LtCY1t2BjTudRIp3aybqoKjbMAs', '1ZDpB7Nipmx3b9c3I9ID6lQXoCIbOFP_6', '1c5Ez9ncAMdxYMz315MAXKRw3ssDPLw24', '18_kBV-MHd9e6spQYAzgdvsA0QjPsyhzP', '1VhlN8bfWlAadT_WqILt9QRJDJzPQsveg', '1sth-d3a2EXmSpGAE91ay_T0ajgw64dc6', '1muedZUAt4BC-cO-qoafr96joT53URIfM', '1RpSDGEjTD4VkqllGypRjWEupCu1Dd5q0', '1Nh7tLqCIg6dCBOn25TMkPKiD1NW4IOlv'}\n"
          ],
          "name": "stdout"
        }
      ]
    },
    {
      "cell_type": "code",
      "metadata": {
        "id": "ZtLcDpzwCENm",
        "colab": {
          "base_uri": "https://localhost:8080/"
        },
        "outputId": "f4d7405c-b1f6-4081-c4cd-75f3088a5c8e"
      },
      "source": [
        "test_videos = get_file_ids(df_test)\n",
        "print_videos(test_videos)"
      ],
      "execution_count": null,
      "outputs": [
        {
          "output_type": "stream",
          "text": [
            "Front\n",
            "\tLeft\n",
            "\t\tHigh block (6): {'1GXwsd4FWk4wciNwkQC47UE9alnj5sqvU', '13_Aln1IFeXnMTQjLt1-ynHcpmERyFmYf', '12dRD-neYFUZPbnw_wrS_8HOAM89v0-x4', '1zSjq2YdrSssAZiPtBCp9MS-aXuhP0-8J', '1h4_jIdjN2AUBOSdvbJ5_1fI6mGuc9Cml', '1U8JFG8O3NZG0-DAjzxOihvFxuxL1Xo-8'}\n",
            "\t\tMiddle block (in-to-out) (5): {'1xkAhj14URQdtqx73zCBwrTZ8gmPB0IvX', '1uHBalHc8OaSn-r8emsrNBcUCYHUdbrGm', '1gsbq4KFJNLR-SbwwWGihPDyakzwEqoMi', '1u2wDINjE5ziTOutGhCHXxo8_29w9OoN2', '1fa1iaFnmislHXKtoPX0QWTN7FD-ErPNg'}\n",
            "\t\tMiddle block (out-to-in) (6): {'1IpyBKYpFspYRefXgzyHJ6C6IWez12UOY', '1ae19Fzi_c8N1cxPtJSoVC44V04MrKsmV', '1PNJhTnVIG9HfXGywFg86w3MJ7auF480E', '1LtoMuGyb_18CG07jV82_pxv-Kc6HY0UY', '1pGis5yZrO9pzp8vPX3CrVhCJgfNEUHcJ', '1aVO-LoGJT-ZD3yzBVNhGwgKNyPwd0G10'}\n",
            "\t\tKnife hand block (6): {'1EDOTLHj32G2BCQGXOFHydrjU1dqs1Uzi', '1AoK_rpN7yQse9oKmOIG_mAvGUXCK3V05', '1Y8qxMXQjdVmMJKsljtxsrYsL6hjQfKxe', '1YqT68bQbpU2qbDz1NkY5mELTXb4JZ9Ps', '1zSrTk834ITUMdhRvs5uEjN5eBWIykE_X', '1Aq3FD8ZG-9IhsArCWTHJm4vv91XJ-Cdf'}\n",
            "\t\tLow block (5): {'1qtFwBVvQF6ZYyDU5NxptkbCWo36iA0LB', '1OSO7Md0W-Hh6U4sTynRWrBWftWiEvRu_', '1qFtMQxqWijvtXU2-uoI0Xu67f5i1CyE1', '12klQVkG3fRhHDngnvwDyYSyB1hwkRS1c', '1BTa9eQC6XwekzPQ9lmldqdH346cE2hyc'}\n",
            "\t\tPunch (middle-level) (5): {'1JUezn1CYTP0mUaCuVIIFPcKEV5x5erWH', '1sedcKlSm1zrQu0BhAfTCbyp6YPHDv_fE', '1vwPgOOH8vVCTeOxM15cUsAUEFXzTev8D', '1r9wugO9IPmTqAzGbqiVfjz87iDpNSuFH', '1q_rWg1Olq6Hr8k59t2GTWhimm6jgbwwS'}\n",
            "\t\tHigh punch (face-level) (5): {'17iYPIM2F--_EQD42EuehDutICKUBepwY', '1UbyrPmCjf6MFGjTCfvuchL0-jATSwJ_N', '1MuwmDrxsg7qg01xRS63pP5O7S6r470yX', '1tZNfsKlCOTzYsxzHuzbLxW8bL_qOhMrg', '1fuXqoXatqA_9CvX4QzIZ8QHYI17wTCLB'}\n",
            "\t\tFront kick (3): {'1TAmzWOzyxhl-HaYTRRElEVks1L9E64gj', '1FGax4d3uJlCSzf15BWUN8XgAxMFeorMK', '1WIC9uImVGhnQhBr1Q7xPbNctefJGIcSC'}\n",
            "\t\tRound kick (3): {'1zFgL72fuPtW75F-GASKSaGjNec41mIwN', '1ZBoZ5O0QiBxkeMmQ8Od8u6UGTChdSC5v', '1ntd7iqyCXTdbZomM2TuLQRFZFaJicbJM'}\n",
            "\t\tSide kick (3): {'1BFEcu8gl-kkE317PKyV5nZAhUa_qnNH4', '1yvglkrwI5sy1WojykToiBLvxGGuPw0pi', '1IhUnXGYkvAy-kDnMdUn5jtpWlcGs3_KZ'}\n",
            "\tRight\n",
            "\t\tHigh block (5): {'1J6VhRA-TGJV0TBd12jY-lbwAb1boGaCT', '1Hhn_Zsh0lTrWyB-GRaU5mmv0j14lfnmx', '15ebNQo4ebhrzUEd0a8s8_mC-WymXFfK0', '1zkvQgDCCSNLQ5RyZyEtsQgV98vTKQiqC', '1Vc1G5SBWEstEzC0b2feRHhXDdk6qOz-n'}\n",
            "\t\tMiddle block (in-to-out) (6): {'1cQQDmmcF36jhhxYjmJwM4BSVgJ_SKvEo', '110ZmIforSPx7KSA0jR-p7kybepTYlraH', '1sgwpqABY_WLb-ZudGqwdbKywWVMVRd7_', '17S8zSbscVmzHU6KyGCdyukiXJgBhNXvM', '1F6pNH2MZSPZwv-imjDmG9UyDewxG40zk', '1LDGW2USXm5AyJRkRQEI-KTDl7vV5DyNA'}\n",
            "\t\tMiddle block (out-to-in) (5): {'1oNZhps8OzFiMj6UGvkHLLQ_xXZsOU7je', '1KQ3JPg7V6gd4eT5jlkFrAzK9aK_oh9QH', '1mSAwVQzuxivqq7QjqWwDYNb96YHUfy7Z', '1fW99roneYEPayV8IXen8lh8UXIsKhUxc', '1BYzi_1AApd5-X1O5i_DOcv0kNTvrSu3r'}\n",
            "\t\tKnife hand block (6): {'1_SgELooJT0rx1qlpkUYbDNZPOW14k5fg', '1xq5iy24_VyPizEZ2UQG55goWIMH973FX', '1YLtGGR4qHoM-hrae5NKZ47dY_XudSCcl', '19jBcplKY7MDPPB0R8f413mjGYhsmvPaQ', '1WA93FsV9JKRQPyZd4-MYas7O8AS3hurn', '1rUzw1yny7-7CHBfiqGCQKNVUdHsR4kGu'}\n",
            "\t\tLow block (7): {'1YAk60FnlJXyYOwrmykWg4XcgLcX0GI9U', '15-O7pLtImQfD_sww_TECfnXH47MlqAZz', '19Ylvt0_HAM8AqdC-D0p2fXro1rQzCyiU', '1TMlvtROC5XV7HqTK-lUWo8PcoCapRD0B', '1_hGo28xwAZ3TWGijfoCuwHrZZrwuiCad', '1_4T5OB1lGByk_Bjl5ZVVofI7zNBPaSHf', '1EqS6RXUOzfqMhRehGJW7Z8Z2-1AFwJ2x'}\n",
            "\t\tPunch (middle-level) (7): {'1WI4okkfS-SWryr6ZnDX210s8_rho7nWQ', '1i7Pev4jFhsVLFZ_KHqtTBKpBIyGYMNot', '1j1YS0W3kERNs5nI55bPKTuuWyRzzla-g', '1zVrZq5ccYcuSCdtJy4pxPiKv3IWME1pR', '1hHj1_z4yIYjhmy3NF7zyk5Lea7RSNh_1', '1I2X2n2m1CU_hdBXqGbYW7AhyV4ey_r-I', '1ZDORDnWWsB_2A0RAALfAvjZWjEzkioAP'}\n",
            "\t\tHigh punch (face-level) (6): {'1RPubLBiSR14Alybc162QkMVkxZsY_aCv', '1AJtBj8LDL-SRLglrLGh052H4gAiaDYIt', '1NDHQMVJMXpHEaT3hUcHs9tnDHxbAd0nL', '1587HOcebVfa4EwzGnsGTPx8dwyQh-vo1', '1MrJc8Z2lLfIcIcKEBpv01P5EaQdpGhcX', '1n8_qOP63w_44AT5HMR7t0UplmfdxC_80'}\n",
            "\t\tFront kick (3): {'1a3ev_y9-OS-NzC7rEPYPdKatnVDD5gFZ', '1uvM67u_oYindbY1BJ9OSgJhNyrADMH59', '1oFZ0a4jFZFtHnwz62I4li9yMIBwHygkJ'}\n",
            "\t\tRound kick (3): {'11CgOzxO-R-L30YccoLsEtg35wtCn6PXy', '1idjc0unIpZlw9iClcOJNgFWDXjnJDaPn', '1zkzevnoY7PwlZ0iU5UxMY6pHG5iwzCMs'}\n",
            "\t\tSide kick (4): {'1RZMNo-UrUMzOnm7ps6OKvK77d4OHysxx', '1Hc4QPl0ITOr3r1kN2vtz6NWkblLL9f88', '1gS5seOpTQKuEH6ZuRBIvOa2bWwKMFyKw', '1QTIa8c2rac_9cvYuFUj4Qt1BfXW_ZXSn'}\n",
            "Diagonal\n",
            "\tLeft\n",
            "\t\tHigh block (6): {'1gS_MboyxGW2Ijh9oAAVsY8eQGFiLjg1X', '1mASNylFxN2gfAv5p9-oERio8K7Sq5iJC', '1tmjjxGxsYeWCo6CbR2qFi5MY8xKgrIUW', '1yoYpCuJbkC77q8WGCFJLTUMc_AZKPtPj', '1C85yW7BFZ9WVxGEUlJ2f0tHCmeVGPJx4', '1dmgryatIgZjhQvb6Ans68HzgODLF9ZpS'}\n",
            "\t\tMiddle block (in-to-out) (7): {'1Db06iU3fNtRtG4BGi3-I3_9d4PDVnEwD', '1hDNUOtO3m3z_zKvIQgtnM5aGYmKS3gLy', '17cvQAzaesSUhgittIqCBWfKfWqyw0LZr', '1nsfjHhUlD9P1EJN5v05pCJDxRaHXl_o-', '1V3JcD6nggd8bbYgdzlA89cndG_A0hyDs', '1vhP9Jlz_M6-yOw_A-IZdUQyWa7AgmWoI', '1aSdbXqVawZ5wCIoo1ypSmwtiCv6o6g6s'}\n",
            "\t\tMiddle block (out-to-in) (5): {'189dcLC_5HV3CqFnSUbObb2NS7nPWbb_M', '1uIO3ixDAASJV5LFhJ2JA7_lue5c8leHl', '1xHY3Ov7yJ_AHDVDvwksFRDwV3KWtHuKb', '1C9lWgeNGobe4wZbZ96pHhjZKXU4Cy8Vl', '1zMrwt2-jbO_ZePBIjd7QVM2u5L4MRkZ1'}\n",
            "\t\tKnife hand block (5): {'1EZFEc_6PBbZb6KYXVM28IjYOVqCLhkb8', '1Uzn3RdkBLs2jRx9hjdOAIm6irD-p4aQg', '1Qo01QX_K65Sb9s8YcbujewSr8cfQ1sE5', '1jPA0Ql_tfbNYLWJsMQuGd9v39t-b-EnE', '18GWDBUFFmy4mFl1C26_9TL_7sae5aqBi'}\n",
            "\t\tLow block (5): {'1WnQqgZgDZUmjNxpHLElT3CYPJXPPU_Dr', '1vC3KT_1yMgr_OpmKQ8MITiC8gZi_Ruay', '1f_D7cgSuZWHvSJMHbFpx8oPv7PcAP2dX', '1eCZOECLuKuw1wOwNlTdBZzsm-6_AKRVh', '1cBDflOz47DzEXztP6TAsbpTgR4yD0XKO'}\n",
            "\t\tPunch (middle-level) (5): {'1KW_dlOqendmjb_WJPTQe38zjh_ZCl2Qr', '1_6QcAMp8SB2uCPYaaXw5sKX2wfgJ-QOg', '1hZIP6_HvmYwmRNGemHYLDHaMPYd5glUL', '17u93GaOg3e9R6ezdm1N1zAcd94Q-eTg-', '1B4_-EjMVPe_R1fe1lIaH4QNFfdgeuK5J'}\n",
            "\t\tHigh punch (face-level) (6): {'158RMD0U6XX256VhsfNr0USfaIZ1s3Oho', '1nD3H51qFAQJ2lXQy1BWp0YT7gEPWSF4O', '1Ot16i30Ivub6L2DNRD7x_TC1f6sqmpGT', '1YdDRyN6PVsQpsyJHzVajat8gGDUa7mUr', '1wwe34C94KxDM2E__89DHTXjoktLChyR5', '1B8oIRrPr8gxdrj65yFy8dDZPa0E9bkyu'}\n",
            "\t\tFront kick (4): {'1rFtYWkIOuqmSmgtMsQ0mbuTPSFwVCQz6', '1FqSAwvvjmPXyjHxwMBBsZkMueN6UGLPZ', '15jvZ970fOHpa5Tk1nrt9TveKgZx2ZC3o', '1ZrTYaC0GCPRo3BDjvV8waYDD5brHnln8'}\n",
            "\t\tRound kick (4): {'1E60InLp_OAtXpnKYkxb0OQrVQ_E3ymMy', '1sADexGaQxTgtaEDmTyH8dQb8PlUzk99e', '1SbS2472wYRdJdR0vhwbsx0h00kO6lY6E', '1sBOP0_xBU9ATlkEwzV7Jq1HKFluzdGZ0'}\n",
            "\t\tSide kick (3): {'1BhRhayxYBfay0n5s1_Ku7l6YMTsqeTif', '1SblZCS8vgVbvTDM_AkjUkIPM48s0SGOc', '1i9IYQWckRFeLlMKHectsVjaQSRWh5zYx'}\n",
            "\tRight\n",
            "\t\tHigh block (5): {'1cgOwOfKVtohZtANpNrz5Em4ciJShlNXo', '1BzhsEOQlPyebcljyLhNhWLKq3uxzAH6x', '12WsrNAj7XeM-s8l4CJA4REbFjnyACn9P', '10Q1mzekuFQv_UYYOnjWT20L6fLbCRZGQ', '1f4Q2lcmeXb-rUNkX3sJ_1XGpTTx_Qyck'}\n",
            "\t\tMiddle block (in-to-out) (6): {'1RqUGj0PsgqKJaR_tAT-zR4_izOpUSfWq', '1C1PPDZVTOTWgxGAhRQk0Pq8Q4OnK_0Az', '1gw3XdyRJvKi68xvkjhLoYWlQGI6-Pc8w', '1gl47FnYJDq5RxNcJRBnbeXOMIwq4f0Hq', '13I21i2Br-yQokkZY56f_LFrqQglIvBj5', '1ZShl9i7k7ucv1iUHm-xtO3b89qykEKK0'}\n",
            "\t\tMiddle block (out-to-in) (6): {'1iYVizvtqPT79OHjmKwKdkl7bEjuCYUem', '1V6gH4jHlTbDw0GGEoWz-HEVOk8r6BOGp', '1dhjgkyo2pW0MP7yhqoARnM4gzVtUaEkT', '1n_5sA5-roEKA8i6zMSsJ5HUjF4NRO17j', '1cq_kvJGaZG0Y0WPfON5Xyu28jfhOmdcH', '1256XwYyBtjBJsK7Id8Pw61OhdSqDcPFA'}\n",
            "\t\tKnife hand block (4): {'1bHJTiE3Df9YstfQ8Kd_yYIxQkmQCVeGi', '1AfzruI8Go79YFgKh1VuyXM53aLHgqo83', '18YMF2LBQzz_TfR_8pHDLz49HCUMMjWAm', '1ZuQ-YG4hFvBaj2Kh9oyuNAlu_9PAztob'}\n",
            "\t\tLow block (5): {'1bBZcWbXmxy8PoMfHxRck-4KYcbu4GMRT', '1N6ZLSEA2fl8SDpAtwGNqBD1D2q44bmI-', '1ZnGQlaVzJX43aWWBJOhMH6JHfoRda3hQ', '17grH_rfynXjaHbQ7f0tjDWJraudA-U94', '17ctT2OrNTj4Wofs_16PfZ68C0CxSh1XB'}\n",
            "\t\tPunch (middle-level) (6): {'1IGOLfRq7g8M7tGlCDhE5HN_7X10Ju_WC', '1LPTbUjnnq9D2iMy2Sh6zgFWEJ-HqHibw', '1Nk1qY9-swPabUUKwl8_J4TkNx24JAsCI', '1lHXD9xXAhB8dz8hwEdOXB7W7IADFa-28', '1_NK53XDaEFllWdUk9R1pAPRM9n1nlJ7M', '1FIPLsB2yLZuJz2VNR9HG0O94QjFWMvGB'}\n",
            "\t\tHigh punch (face-level) (5): {'1pdmWMDMThVeOZnq8HvB_HMgTWWK1tmtV', '1YD5ide72ov1naGbxo2olLohmFJW2NlEc', '1p8l9y-zYfRvgv0dUOPWUx-gHBw8cXOTu', '1w3Ry8ilegOC0J3ed1jb_QO_ATA3L9GLg', '1W49oqReeVC70JwDlfc_z-poccDchBBxt'}\n",
            "\t\tFront kick (4): {'12PDNRtK1asIA5okIOCz7x7b5VoPz_3oT', '1L2uV5Cz5sf0fLkLXpqiYC782CE541pPv', '1E8IzPq_8M5MEoR85RbV2Kd6RApxc7ubR', '1IVRWmW-Depga70AO1iKcO8iLMFwdQQSy'}\n",
            "\t\tRound kick (3): {'1zlAETG7UKrowTPKPrSX1AZlerY6sC8KI', '1fv92BBVU_PeE-OEkGugh0k5OalUyaE37', '1ttWuf074pGI9GJUSjajLdXhHpwAnw7Q0'}\n",
            "\t\tSide kick (3): {'1y2FBdz0evZI0r9lrgk64ElY3JmrkjmTK', '1JFxME5nTHzRGQaZY-dn_E0cg7EpGfhaO', '1RxOTSCyGsY-G8L9jqVGEjVG_QChOOVA1'}\n"
          ],
          "name": "stdout"
        }
      ]
    },
    {
      "cell_type": "code",
      "metadata": {
        "id": "VPDW-e0s6uOA"
      },
      "source": [
        "def slow_down_video(input_name, output_name, speed=3.0):\n",
        "  !ffmpeg -i \"$input_name\" -filter:v \"setpts=$speed*PTS\" \"$output_name\""
      ],
      "execution_count": null,
      "outputs": []
    },
    {
      "cell_type": "code",
      "metadata": {
        "id": "ikpxghyph1uX"
      },
      "source": [
        "def naming_convention(c, prefix, view, count):\n",
        "  if c == 'regular':\n",
        "    filename = prefix + f'{view[0].lower()}_{count}.mp4'\n",
        "  else:\n",
        "    filename = prefix + '_ideal.mp4'\n",
        "  return filename"
      ],
      "execution_count": null,
      "outputs": []
    },
    {
      "cell_type": "code",
      "metadata": {
        "id": "HQwgCVJhfs2T"
      },
      "source": [
        "def download_video_helper(file_id, dir, prefix, view, count, convention):\n",
        "  request = drive_service.files().get_media(fileId=file_id)\n",
        "  fh = io.BytesIO()\n",
        "  downloader = MediaIoBaseDownload(fh, request)\n",
        "  done = False\n",
        "  while done is False:\n",
        "      status, done = downloader.next_chunk()\n",
        "      # print(\"Download %d%%.\" % int(status.progress() * 100))\n",
        "  fh.seek(0)\n",
        "\n",
        "  filename = naming_convention(convention, prefix, view, count)\n",
        "\n",
        "  with open(os.path.join(dir, filename), 'wb') as f:\n",
        "    f.write(fh.read())\n",
        "    f.close()"
      ],
      "execution_count": null,
      "outputs": []
    },
    {
      "cell_type": "code",
      "metadata": {
        "id": "2sVDMMRn43c4"
      },
      "source": [
        "def download_all_videos_helper(videos, dir, prefix, view, side, move):\n",
        "  count = 0\n",
        "  for file_id in videos[view][side][move]:\n",
        "    # print(file_id)\n",
        "    download_video_helper(file_id, dir, prefix, view, count, 'regular')\n",
        "    count += 1\n",
        "  print(f'Downloaded all {view}-view videos of {side}-side {move} moves')    "
      ],
      "execution_count": null,
      "outputs": []
    },
    {
      "cell_type": "code",
      "metadata": {
        "id": "vsR48L3c-MYx"
      },
      "source": [
        "def download_all_video_views(dir, prefix, videos, side, move):\n",
        "  if move in videos['Front'][side]:\n",
        "    download_all_videos_helper(videos, dir, prefix, 'Front', side, move)\n",
        "  if move in videos['Diagonal'][side]:\n",
        "    download_all_videos_helper(videos, dir, prefix, 'Diagonal', side, move)"
      ],
      "execution_count": null,
      "outputs": []
    },
    {
      "cell_type": "code",
      "metadata": {
        "id": "lalWCG6NSS6g"
      },
      "source": [
        "def download_all_videos(leadup, videos, side, move, slow, dts_id=None):  \n",
        "  if slow:\n",
        "    if dts_id == None:\n",
        "      dir = os.path.join(leadup, f'{abbreviations[move]}_{side[0].lower()}_init_')\n",
        "      print(dir)\n",
        "      if not os.path.exists(dir): #make the initial videos folder\n",
        "        os.makedirs(dir)\n",
        "  else:\n",
        "    if dts_id == None:\n",
        "      dir = os.path.join(leadup, f'{abbreviations[move]}_{side[0].lower()}')\n",
        "    else:\n",
        "      dir = os.path.join(leadup, f'{abbreviations[move]}_{side[0].lower()}_{dts_id}')\n",
        "  \n",
        "  if dts_id == None:\n",
        "    fdir = os.path.join(leadup, f'{abbreviations[move]}_{side[0].lower()}')\n",
        "  else:\n",
        "    fdir = os.path.join(leadup, f'{abbreviations[move]}_{side[0].lower()}_{dts_id}')\n",
        "  \n",
        "  if not os.path.exists(fdir):\n",
        "    os.makedirs(fdir) #make the final videos folder\n",
        "    prefix = f'{abbreviations[move]}_{side[0].lower()}'\n",
        "    print(prefix)\n",
        "    \n",
        "    download_all_video_views(dir, prefix, videos, side, move)\n",
        "\n",
        "    if slow:\n",
        "      for f in os.listdir(dir):\n",
        "        vidfn, ext = os.path.splitext(f)\n",
        "        slow_down_video(os.path.join(dir,f), os.path.join(fdir, f'{vidfn}.mp4'))\n",
        "\n",
        "    return prefix\n",
        "  else:\n",
        "    return None"
      ],
      "execution_count": null,
      "outputs": []
    },
    {
      "cell_type": "markdown",
      "metadata": {
        "id": "OPQyNKJs0SG0"
      },
      "source": [
        "## Pose Classification"
      ]
    },
    {
      "cell_type": "code",
      "metadata": {
        "id": "u-dvUe6K8yTY"
      },
      "source": [
        "# moves = [\"High block\", \"Middle block (in-to-out)\", \"Middle block (out-to-in)\", \"Knife hand block\", \"Low block\", \"Punch (middle-level)\", \"High punch (face-level)\", \"Front kick\", \"Round kick\", \"Side kick\"]\n",
        "# moves = [\"High block\", \"Middle block (in-to-out)\", \"Middle block (out-to-in)\", \"Knife hand block\", \"Low block\", \"Punch (middle-level)\", \"High punch (face-level)\"]\n",
        "# moves = [\"Front kick\", \"Round kick\", \"Side kick\"]"
      ],
      "execution_count": null,
      "outputs": []
    },
    {
      "cell_type": "code",
      "metadata": {
        "id": "7T0zHOUmUwGG"
      },
      "source": [
        "def reconstruct_video_helper(path, threed_outputs_folder, custom_dataset, video_fn):\n",
        "  p = os.path.join(path, video_fn)\n",
        "  print(p)\n",
        "  # print(f'cd VideoPose3D/ && python run.py -d custom -k {custom_dataset} -arc 3,3,3,3,3 -c checkpoint --evaluate pretrained_h36m_detectron_coco.bin --render --viz-subject {video_fn}.mp4 --viz-action custom --viz-camera 0 --viz-video ../{p}.mp4 --viz-output ../{threed_outputs_folder}/{video_fn}_si.mp4 --viz-export ../{threed_outputs_folder}/{video_fn}_si --viz-size 6')\n",
        "  !cd VideoPose3D/ && python run.py -d custom -k \"$custom_dataset\" -arc 3,3,3,3,3 -c checkpoint --evaluate pretrained_h36m_detectron_coco.bin --render --viz-subject \"$video_fn\".mp4 --viz-action custom --viz-camera 0 --viz-video ../\"$p\".mp4 --viz-output ../\"$threed_outputs_folder\"/\"$video_fn\"_si.mp4 --viz-export ../\"$threed_outputs_folder\"/\"$video_fn\"_si --viz-size 6"
      ],
      "execution_count": null,
      "outputs": []
    },
    {
      "cell_type": "code",
      "metadata": {
        "id": "1LbKdmE6MywE"
      },
      "source": [
        "def reconstruct_videos(leadup, prefix, dts, folder=None):\n",
        "  # path = f'../{prefix}/'\n",
        "  # print(f'Dataset name: {dts}')\n",
        "  if folder is None:\n",
        "    p = os.path.join(leadup, prefix)\n",
        "    threed_outputs_folder = os.path.join(leadup, f'{prefix}_3d_outputs')\n",
        "  else:\n",
        "    p = os.path.join(leadup, folder)\n",
        "    threed_outputs_folder = os.path.join(leadup, f'{folder}_3d_outputs')\n",
        "\n",
        "  if not os.path.exists(threed_outputs_folder):\n",
        "    os.makedirs(threed_outputs_folder)\n",
        "\n",
        "  for f in os.listdir(p):\n",
        "    print(f)\n",
        "    vidfn, ext = os.path.splitext(f)\n",
        "    reconstruct_video_helper(p, threed_outputs_folder, dts, vidfn)\n",
        "  return threed_outputs_folder"
      ],
      "execution_count": null,
      "outputs": []
    },
    {
      "cell_type": "markdown",
      "metadata": {
        "id": "iSnMmPE_kiK3"
      },
      "source": [
        "###Generate Vocabulary Poses with K-means clustering"
      ]
    },
    {
      "cell_type": "code",
      "metadata": {
        "id": "JctIQCO0jFTa"
      },
      "source": [
        "hand_techniques = [\"High block\", \"Middle block (in-to-out)\", \"Middle block (out-to-in)\", \"Knife hand block\", \"Low block\", \"Punch (middle-level)\", \"High punch (face-level)\"]\n",
        "kicking_techniques = [\"Front kick\", \"Round kick\", \"Side kick\"]"
      ],
      "execution_count": null,
      "outputs": []
    },
    {
      "cell_type": "code",
      "metadata": {
        "id": "I1a98Qsq3XjR"
      },
      "source": [
        "from sklearn.cluster import KMeans"
      ],
      "execution_count": null,
      "outputs": []
    },
    {
      "cell_type": "code",
      "metadata": {
        "id": "SGpX-sfIkhgc"
      },
      "source": [
        "#to calculate angles between joints\n",
        "#note that math returns angles in radians\n",
        "\n",
        "h36m_num_joints = 17\n",
        "h36m_joints = {\n",
        "    0: [7,8,9],\n",
        "    1: [14,8,11],\n",
        "    2: [8,14,15],\n",
        "    3: [14,15,16],\n",
        "    4: [8,11,12],\n",
        "    5: [11,12,13],\n",
        "    6: [7,1,2],\n",
        "    7: [1,2,3],\n",
        "    8: [7,4,5],\n",
        "    9: [4,5,6],\n",
        "    10: [16,7,13],\n",
        "    11: [3,7,6],\n",
        "    12: [8,7,16],\n",
        "    13: [8,7,13]\n",
        "}\n",
        "\n",
        "#note that the returned angle will be in radians\n",
        "#where coordinates is a numpy array\n",
        "def calc_angle(angle_jgroup, coordinates):\n",
        "    angles = np.array([])\n",
        "    for i in angle_jgroup:\n",
        "        s,c,e = angle_jgroup[i]\n",
        "        s_hat = coordinates[s] - coordinates[c]\n",
        "        c_hat = coordinates[c] - coordinates[c]\n",
        "        e_hat = coordinates[e] - coordinates[c]\n",
        "\n",
        "        dot_product = s_hat@e_hat\n",
        "        alpha = math.acos((dot_product)/(np.linalg.norm(s_hat)*np.linalg.norm(e_hat)))\n",
        "\n",
        "        angles = np.append(angles, alpha)\n",
        "    return angles\n",
        "\n",
        "#given filename with frame.json, gets angles\n",
        "def get_frame_angles(frame):\n",
        "    ang = calc_angle(h36m_joints, frame)\n",
        "    return ang\n",
        "\n",
        "#rerturns a series of 14d arrays (angles in radians)\n",
        "def get_angles(data):\n",
        "    ang = np.empty((len(data),len(h36m_joints)))\n",
        "    for i, d in enumerate(data):\n",
        "        f_ang = get_frame_angles(d)\n",
        "        ang[i] = f_ang\n",
        "    return ang"
      ],
      "execution_count": null,
      "outputs": []
    },
    {
      "cell_type": "code",
      "metadata": {
        "id": "xy6dU4Zv3B6r"
      },
      "source": [
        "#input - a bunch of NumPy archives of a given move\n",
        "def get_cluster_centroids(k, ips):\n",
        "  X = get_angles(np.load(ips[0]))\n",
        "  i = 1\n",
        "  while i < len(ips):\n",
        "      data = get_angles(np.load(ips[i]))\n",
        "      X = np.concatenate((X, data))\n",
        "      i+=1\n",
        "  # print(X.shape)\n",
        "  kmeans = KMeans(n_clusters=k, random_state=0).fit(X)\n",
        "\n",
        "  # print(kmeans.labels_)\n",
        "  cc = kmeans.cluster_centers_\n",
        "  # print(cc)\n",
        "  return kmeans"
      ],
      "execution_count": null,
      "outputs": []
    },
    {
      "cell_type": "code",
      "metadata": {
        "id": "sPO3lOxBL73l"
      },
      "source": [
        "def get_ips(leadup, prefix):\n",
        "  threed_outputs_folder =  os.path.join(leadup, f'{prefix}_3d_outputs')\n",
        "  ips = []\n",
        "  for f in os.listdir(threed_outputs_folder):\n",
        "      vidfn, ext = os.path.splitext(f)\n",
        "      # print(ext)\n",
        "      if ext == '.npy':\n",
        "        ips.append(os.path.join(threed_outputs_folder, f))\n",
        "  print(ips)\n",
        "  return ips"
      ],
      "execution_count": null,
      "outputs": []
    },
    {
      "cell_type": "code",
      "metadata": {
        "id": "wc4pgLeqjkvH"
      },
      "source": [
        "def get_all_cluster_centroids_helper(leadup, videos, k, side, move, ks, dl=False):\n",
        "  if dl == True:\n",
        "    prefix = download_all_videos(leadup, videos, side, move, slow=False)\n",
        "    dts = f'{prefix}_dataset'\n",
        "    threed_outputs_folder = reconstruct_videos(leadup, prefix, dts)\n",
        "  else:\n",
        "    prefix = f'{abbreviations[move]}_{side[0].lower()}'\n",
        "  ips = get_ips(leadup, prefix)\n",
        "  kmeans = get_cluster_centroids(k, ips)\n",
        "  ks[prefix] = kmeans\n",
        "  return kmeans"
      ],
      "execution_count": null,
      "outputs": []
    },
    {
      "cell_type": "code",
      "metadata": {
        "id": "KO_jUPVN5JN-"
      },
      "source": [
        "def get_all_cluster_centroids(leadup, videos, k, moves, ks, ks_path, dl=False):\n",
        "  for m in moves:\n",
        "    print(f'{abbreviations[m]}_r')\n",
        "    get_all_cluster_centroids_helper(leadup, videos, k, \"Right\", m, ks, dl=dl)\n",
        "    pickle.dump(ks, open(ks_path, \"wb\" ))\n",
        "    print(f'{abbreviations[m]}_l')\n",
        "    get_all_cluster_centroids_helper(leadup, videos, k, \"Left\", m, ks, dl=dl)\n",
        "    pickle.dump(ks, open(ks_path, \"wb\" ))"
      ],
      "execution_count": null,
      "outputs": []
    },
    {
      "cell_type": "code",
      "metadata": {
        "id": "UxdWvL3KSwDu"
      },
      "source": [
        "# unzip_folder(os.path.join(lu, 'TrainSet_NPYs&MP4s.zip'))"
      ],
      "execution_count": null,
      "outputs": []
    },
    {
      "cell_type": "code",
      "metadata": {
        "id": "_pig_SqUkqlw"
      },
      "source": [
        "# ks = {}\n",
        "hand_vp = 10\n",
        "kick_vp = 12\n",
        "# ks_path = os.path.join(lu, f'ks-h{hand_vp}k{kick_vp}.p')"
      ],
      "execution_count": null,
      "outputs": []
    },
    {
      "cell_type": "code",
      "metadata": {
        "id": "IM65BMbc__xK"
      },
      "source": [
        "# get_all_cluster_centroids('', train_videos, hand_vp, hand_techniques, ks, ks_path)\n",
        "# get_all_cluster_centroids('', train_videos, kick_vp, kicking_techniques, ks, ks_path)"
      ],
      "execution_count": null,
      "outputs": []
    },
    {
      "cell_type": "markdown",
      "metadata": {
        "id": "Ev2IZn2hG3jn"
      },
      "source": [
        "###KNN"
      ]
    },
    {
      "cell_type": "code",
      "metadata": {
        "id": "7e_RfK1TF5kZ"
      },
      "source": [
        "from sklearn.neighbors import KNeighborsClassifier"
      ],
      "execution_count": null,
      "outputs": []
    },
    {
      "cell_type": "code",
      "metadata": {
        "id": "UqyH30_sFZAR"
      },
      "source": [
        "def get_data(path_to_ks, suffix, new_identifiers=False):\n",
        "    ks = pickle.load(open(path_to_ks, 'rb'))\n",
        "\n",
        "    num_angles = 14\n",
        "    total_poses = (hand_vp * 2 * len(hand_techniques)) + (kick_vp * 2 * len(kicking_techniques))\n",
        "\n",
        "    X = np.empty((total_poses, num_angles))\n",
        "    y = np.array([])\n",
        "\n",
        "    if new_identifiers == True:\n",
        "        identifier2move = {}\n",
        "        move2identifier = {}\n",
        "        identifiers = [i for i in range(len(ks.values()))]\n",
        "        random.shuffle(identifiers)\n",
        "    else:\n",
        "        identifier2move, move2identifier = pickle.load(open(os.path.join(lu, f'moveids.p'), 'rb'))\n",
        "\n",
        "    count = 0\n",
        "    for move in ks:\n",
        "        if new_identifiers == True:\n",
        "            moveid = identifiers.pop()\n",
        "            identifier2move[moveid] = move\n",
        "            move2identifier[move] = moveid\n",
        "        else:\n",
        "            moveid = move2identifier[move]\n",
        "        vocab_poses = ks[move].cluster_centers_\n",
        "        for pose in vocab_poses:\n",
        "            X[count] = pose #where X is the collection of vocab poses that map\n",
        "            y = np.append(y, [moveid])\n",
        "            count += 1\n",
        "    np.savez(os.path.join(lu, suffix), X, y)\n",
        "    if new_identifiers == True:\n",
        "        pickle.dump((identifier2move, move2identifier), open(os.path.join(lu, f'moveids.p'), 'wb'))\n",
        "    return X,y, identifier2move, move2identifier"
      ],
      "execution_count": null,
      "outputs": []
    },
    {
      "cell_type": "code",
      "metadata": {
        "id": "fg2KI702H-4Q"
      },
      "source": [
        "def classify_videos(ips, tech, ks_name, new_ids=False):\n",
        "    path_to_ks = os.path.join(lu, ks_name)\n",
        "    suffix = path_to_ks[path_to_ks.find('-')+1:path_to_ks.find('.p')]\n",
        "\n",
        "    if not os.path.exists(os.path.join(lu, f'{suffix}.npz')):\n",
        "        X, y, identifier2move, move2identifier = get_data(path_to_ks, suffix, new_identifiers=new_ids)\n",
        "    else:\n",
        "        npzfile = np.load(os.path.join(lu, f'{suffix}.npz'))\n",
        "        X,y = npzfile['arr_0'], npzfile['arr_1']\n",
        "        identifier2move, move2identifier = pickle.load(open(os.path.join(lu, f'moveids.p'), 'rb'))\n",
        "\n",
        "    # neigh = KNeighborsClassifier(n_neighbors=5)\n",
        "    neigh = KNeighborsClassifier(n_neighbors=10)\n",
        "    # neigh = KNeighborsClassifier(n_neighbors=12)\n",
        "    neigh.fit(X, y)\n",
        "\n",
        "    final_res = []\n",
        "    for i, ip in enumerate(ips):\n",
        "        if tech == None or tech[i] == 'k':\n",
        "          num_vp = int(suffix[suffix.find('k')+1:])\n",
        "        elif tech[i] == 'h':\n",
        "            num_vp = int(suffix[suffix.find('h')+1:suffix.find('k')])\n",
        "\n",
        "        sample_kmeans = get_cluster_centroids(num_vp, [ip])\n",
        "\n",
        "        res = []\n",
        "        for pose in sample_kmeans.cluster_centers_:\n",
        "            res.append(neigh.predict([pose]))\n",
        "\n",
        "        tally = {}\n",
        "        for r in res:\n",
        "            m = identifier2move[r[0]]\n",
        "            if m not in tally:\n",
        "                tally[m] = 1\n",
        "            else:\n",
        "                tally[m] += 1\n",
        "\n",
        "        # for w in sorted(tally, key=tally.get, reverse=True):\n",
        "        #     print(w, tally[w])\n",
        "            # final_res.append(tally.values())\n",
        "        maxvote_move = max(tally, key=tally.get)\n",
        "        final_res.append((maxvote_move, f'{tally[maxvote_move]}/{sum(tally.values())}'))\n",
        "    return final_res"
      ],
      "execution_count": null,
      "outputs": []
    },
    {
      "cell_type": "code",
      "metadata": {
        "id": "s-hi81eFT6C8"
      },
      "source": [
        "def pose_classification_helper(leadup, m, moves_type, dts_id, side, ks_name, pr, acc_writer, dl=False):\n",
        "  if dl == True:\n",
        "    prefix = download_all_videos(leadup, test_videos, side, m, False, dts_id)\n",
        "    oup_folder, dts = create_custom_dataset(leadup, f'{prefix}_{dts_id}', slow=False)\n",
        "    reconstruct_videos(leadup, f'{prefix}_{dts_id}', dts)\n",
        "  else:\n",
        "    prefix = f'{abbreviations[m]}_{side[0].lower()}'\n",
        "  \n",
        "  ips = get_ips(leadup, f'{prefix}_{dts_id}')\n",
        "  tech = [moves_type]*len(ips)\n",
        "  \n",
        "  res = classify_videos(ips, tech, ks_name)\n",
        "  for ip, fr in zip(ips, res):\n",
        "    print(f'{os.path.basename(ip)}\\t|\\t{fr[0]}\\t{fr[1]}')\n",
        "    acc_writer.write(f'{os.path.basename(ip)}\\t|\\t{fr[0]}\\t{fr[1]}\\n')\n",
        "  \n",
        "  misclass = 0\n",
        "  for (elem, vote) in res:\n",
        "    if elem != prefix:\n",
        "      misclass += 1\n",
        "    pr.append((elem, prefix))\n",
        "  acc = 1-(misclass/len(ips))\n",
        "  print(f'Accuracy: {acc}')\n",
        "  acc_writer.write(f'Accuracy: {acc}\\n')\n",
        "  return acc"
      ],
      "execution_count": null,
      "outputs": []
    },
    {
      "cell_type": "code",
      "metadata": {
        "id": "AJq50A0uU1nz"
      },
      "source": [
        "def pose_classification(leadup, moves, moves_type, dts_id, ks_name, pr, version, dl=False):\n",
        "  accuracies = []\n",
        "  acc_writer = open(os.path.join(lu, f\"pose_class_res_{ks_name[ks_name.find('-')+1:ks_name.find('.')]}_v{version}.txt\"), \"a\")\n",
        "  for m in moves:\n",
        "    acc = pose_classification_helper(leadup, m, moves_type, dts_id, 'Left', ks_name, pr, acc_writer, dl=dl)\n",
        "    accuracies.append(acc)\n",
        "    acc = pose_classification_helper(leadup, m, moves_type, dts_id, 'Right', ks_name, pr, acc_writer, dl=dl)\n",
        "    accuracies.append(acc)\n",
        "  avg_accuracy = sum(accuracies)/len(accuracies)\n",
        "  print(f'Average Accuracy: {avg_accuracy}')\n",
        "  acc_writer.write(f'Average Accuracy: {avg_accuracy}\\n\\n')\n",
        "  acc_writer.close()\n",
        "  return "
      ],
      "execution_count": null,
      "outputs": []
    },
    {
      "cell_type": "code",
      "metadata": {
        "id": "e6YUTiKrVrHr"
      },
      "source": [
        "def get_f1(prefix, pr): #searching in pr for this prefix\n",
        "  tp = 0\n",
        "  fp = 0\n",
        "  tn = 0\n",
        "  fn = 0\n",
        "  for pred, res in pr:\n",
        "    if pred == res == prefix:\n",
        "      tp += 1\n",
        "    elif pred == prefix and res != prefix:\n",
        "      fp += 1\n",
        "    elif pred != prefix and res != prefix:\n",
        "      tn += 1\n",
        "    else:\n",
        "      fn += 1\n",
        "  precision = tp/(tp + fp)\n",
        "  recall = tp/(tp + fn)\n",
        "  f1 = 2 * (precision * recall)/(precision + recall)\n",
        "  return f1"
      ],
      "execution_count": null,
      "outputs": []
    },
    {
      "cell_type": "code",
      "metadata": {
        "id": "IcP2YH1na-fR"
      },
      "source": [
        "# !cd \"$lu/TestSet\" && zip -q -r \"TestSet_NPYs&MP4s.zip\" ''"
      ],
      "execution_count": null,
      "outputs": []
    },
    {
      "cell_type": "code",
      "metadata": {
        "id": "DzLszWmla7_h"
      },
      "source": [
        "unzip_folder(os.path.join(lu, 'TestSet_NPYs&MP4s.zip'))"
      ],
      "execution_count": null,
      "outputs": []
    },
    {
      "cell_type": "code",
      "metadata": {
        "id": "Y58VSUE8WiER"
      },
      "source": [
        "ks_name = f'ks-h{hand_vp}k{kick_vp}.p'\n",
        "pr = []\n",
        "pose_classification('TestSet', hand_techniques, 'h', 'test', ks_name, pr, version=4, dl=False)\n",
        "pose_classification('TestSet', kicking_techniques, 'k', 'test', ks_name, pr, version=4, dl=False)"
      ],
      "execution_count": null,
      "outputs": []
    },
    {
      "cell_type": "code",
      "metadata": {
        "id": "NNrV1WGVWJzC"
      },
      "source": [
        "for n in abbreviations:\n",
        "  ab = abbreviations[n]\n",
        "  get_f1(ab)"
      ],
      "execution_count": null,
      "outputs": []
    },
    {
      "cell_type": "markdown",
      "metadata": {
        "id": "wW3L_AfM0Wum"
      },
      "source": [
        "## Temporal Alignment (DTW)"
      ]
    },
    {
      "cell_type": "code",
      "metadata": {
        "id": "JZDC4eFjO-0G"
      },
      "source": [
        "from scipy.spatial.distance import euclidean\n",
        "from fastdtw import fastdtw"
      ],
      "execution_count": null,
      "outputs": []
    },
    {
      "cell_type": "code",
      "metadata": {
        "id": "VvpajCeRMhes"
      },
      "source": [
        "def get_ideal_videos(leadup, dts_id='ideal'):\n",
        "  move2ideal = get_ideal_file_ids(df_full)\n",
        "  print(move2ideal)\n",
        "  dir = os.path.join(leadup, dts_id)\n",
        "  if not os.path.exists(dir): #make the initial videos folder\n",
        "    os.makedirs(dir)\n",
        "  for prefix in move2ideal:\n",
        "    download_video_helper(move2ideal[prefix], dir, prefix, None, None, dts_id)\n",
        "  print(\"Downloaded all ideal videos\")\n",
        "  oup_folder, dts = create_custom_dataset(leadup, dts_id, slow=False)\n",
        "  reconstruct_videos(leadup, None, dts, dts_id)"
      ],
      "execution_count": null,
      "outputs": []
    },
    {
      "cell_type": "code",
      "metadata": {
        "id": "bGexc7WPJzH4"
      },
      "source": [
        "#get_ideal_videos()\n",
        "unzip_folder(os.path.join(lu, 'IdealSet_NPYs&MP4s.zip'))"
      ],
      "execution_count": null,
      "outputs": []
    },
    {
      "cell_type": "code",
      "metadata": {
        "id": "XaCS0cRjW3kk"
      },
      "source": [
        "def dtw_compare_samples_helper(ips, oup):\n",
        "  d = []\n",
        "  y = get_angles(np.load(oup))\n",
        "  for i in ips:\n",
        "    X = get_angles(np.load(i))\n",
        "    distance, path = fastdtw(X, y, dist=euclidean)\n",
        "    d.append(distance)\n",
        "  return d"
      ],
      "execution_count": null,
      "outputs": []
    },
    {
      "cell_type": "code",
      "metadata": {
        "id": "JPWlNnkwXDeJ"
      },
      "source": [
        "def dtw_compare_samples(leadup, prefix, ips):\n",
        "  oup = os.path.join(leadup, f'{prefix}_ideal_si.npy')\n",
        "  d = dtw_compare_samples(ips, oup)\n",
        "  print(d)\n",
        "  return d"
      ],
      "execution_count": null,
      "outputs": []
    },
    {
      "cell_type": "code",
      "metadata": {
        "colab": {
          "base_uri": "https://localhost:8080/"
        },
        "id": "BtHWmYsqeeNW",
        "outputId": "461c958a-57ca-4eaf-b494-a126d369321d"
      },
      "source": [
        "#sample test\n",
        "# prefix = 'mboi_l'\n",
        "# ips = get_ips('TestSet', f'{prefix}_test')\n",
        "# eval_helper('ideal_3d_outputs', prefix, ips)"
      ],
      "execution_count": null,
      "outputs": [
        {
          "output_type": "stream",
          "text": [
            "['TestSet/mboi_l_test_3d_outputs/mboi_lf_3_si.npy', 'TestSet/mboi_l_test_3d_outputs/mboi_lf_2_si.npy', 'TestSet/mboi_l_test_3d_outputs/mboi_lf_5_si.npy', 'TestSet/mboi_l_test_3d_outputs/mboi_lf_0_si.npy', 'TestSet/mboi_l_test_3d_outputs/mboi_ld_3_si.npy', 'TestSet/mboi_l_test_3d_outputs/mboi_ld_1_si.npy', 'TestSet/mboi_l_test_3d_outputs/mboi_lf_4_si.npy', 'TestSet/mboi_l_test_3d_outputs/mboi_ld_0_si.npy', 'TestSet/mboi_l_test_3d_outputs/mboi_lf_1_si.npy', 'TestSet/mboi_l_test_3d_outputs/mboi_ld_2_si.npy', 'TestSet/mboi_l_test_3d_outputs/mboi_ld_4_si.npy']\n",
            "[118.37981110534696, 121.87493197053644, 120.64686262188513, 125.13725581337525, 114.20706484106677, 117.08114387773459, 120.16952144225588, 113.44553619324816, 127.01499183767692, 110.15551499086516, 113.47674116237499]\n"
          ],
          "name": "stdout"
        }
      ]
    },
    {
      "cell_type": "markdown",
      "metadata": {
        "id": "fjj5c1L0y3e_"
      },
      "source": [
        "## GUI"
      ]
    },
    {
      "cell_type": "code",
      "metadata": {
        "id": "_o5mle3sf3fd"
      },
      "source": [
        "!chmod u+x \"$lu\"/convert2mp4.sh"
      ],
      "execution_count": null,
      "outputs": []
    },
    {
      "cell_type": "code",
      "metadata": {
        "id": "mwdDr2fNdoou"
      },
      "source": [
        "def convert2mp4(base):\n",
        "  !cd \"$base\" && ./../\"$lu\"/convert2mp4.sh"
      ],
      "execution_count": null,
      "outputs": []
    },
    {
      "cell_type": "code",
      "metadata": {
        "id": "7WWHp4vrfWTd"
      },
      "source": [
        "from IPython.display import clear_output\n",
        "def evaluate_video():\n",
        "  file = input('Enter the name of your video (ex. i/am/a/boss/test.mp4): ') #assume in directory\n",
        "  lu_pipe, tail = os.path.split(file)\n",
        "  vidfn, ext = os.path.splitext(tail)\n",
        "\n",
        "  if ext != \".mp4\":\n",
        "    convert2mp4(lu_pipe)\n",
        "\n",
        "  ip_f_path = os.path.join(lu_pipe, vidfn)\n",
        "  if not os.path.exists(ip_f_path):\n",
        "    os.makedirs(ip_f_path)\n",
        "  !mv \"$file\" \"$ip_f_path\"\n",
        "  \n",
        "  oup_f, dts = create_custom_dataset(lu_pipe, vidfn, slow=False)\n",
        "  threed_outputs_folder_path = reconstruct_videos(lu_pipe, None, dts, oup_f)\n",
        "  show_local_mp4_video(f'{threed_outputs_folder_path}/{vidfn}_si.mp4')\n",
        "  ips = get_ips(lu_pipe, oup_f)\n",
        "  res = classify_videos(ips, None, ks_name)\n",
        "  move = res[0][0]\n",
        "  confidence = res[0][1]\n",
        "  confidence = int(confidence[:confidence.find('/')])/int(confidence[confidence.find('/')+1:])\n",
        "  \n",
        "  clear_output()\n",
        "  \n",
        "  print(f\"Your video was classified as a {move} with {confidence*100}% confidence\")\n",
        "  d = eval_helper(os.path.join(lu, 'ideal_3d_outputs'), move, ips)\n",
        "  print(f\"Relative to the exemplar, your score is {d}. The closer to 0, the better your execution. Try again to get closer to 0.\")"
      ],
      "execution_count": null,
      "outputs": []
    },
    {
      "cell_type": "code",
      "metadata": {
        "id": "94stPmRbmxtf"
      },
      "source": [
        "evaluate_video()"
      ],
      "execution_count": null,
      "outputs": []
    }
  ]
}